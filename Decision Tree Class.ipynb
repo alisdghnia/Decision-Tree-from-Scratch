{
 "cells": [
  {
   "cell_type": "code",
   "execution_count": 1,
   "metadata": {},
   "outputs": [],
   "source": [
    "import pandas as pd\n",
    "import numpy as np"
   ]
  },
  {
   "cell_type": "code",
   "execution_count": 2,
   "metadata": {},
   "outputs": [],
   "source": [
    "df = pd.read_csv('Iris copy.csv')\n",
    "df.drop(columns = ['Id'], inplace= True)"
   ]
  },
  {
   "cell_type": "code",
   "execution_count": 3,
   "metadata": {},
   "outputs": [],
   "source": [
    "type = []\n",
    "for i in df.Species:\n",
    "    if i == 'Iris-setosa':\n",
    "        i = 0\n",
    "    elif i == 'Iris-versicolor':\n",
    "        i = 1\n",
    "    else:\n",
    "        i = 2\n",
    "\n",
    "    type.append(i)"
   ]
  },
  {
   "cell_type": "code",
   "execution_count": 4,
   "metadata": {},
   "outputs": [],
   "source": [
    "df['type'] = type"
   ]
  },
  {
   "cell_type": "code",
   "execution_count": 5,
   "metadata": {},
   "outputs": [],
   "source": [
    "df.drop(columns= ['Species'], inplace= True)"
   ]
  },
  {
   "cell_type": "code",
   "execution_count": 6,
   "metadata": {},
   "outputs": [
    {
     "data": {
      "text/html": [
       "<div>\n",
       "<style scoped>\n",
       "    .dataframe tbody tr th:only-of-type {\n",
       "        vertical-align: middle;\n",
       "    }\n",
       "\n",
       "    .dataframe tbody tr th {\n",
       "        vertical-align: top;\n",
       "    }\n",
       "\n",
       "    .dataframe thead th {\n",
       "        text-align: right;\n",
       "    }\n",
       "</style>\n",
       "<table border=\"1\" class=\"dataframe\">\n",
       "  <thead>\n",
       "    <tr style=\"text-align: right;\">\n",
       "      <th></th>\n",
       "      <th>SepalLengthCm</th>\n",
       "      <th>SepalWidthCm</th>\n",
       "      <th>PetalLengthCm</th>\n",
       "      <th>PetalWidthCm</th>\n",
       "      <th>type</th>\n",
       "    </tr>\n",
       "  </thead>\n",
       "  <tbody>\n",
       "    <tr>\n",
       "      <th>0</th>\n",
       "      <td>5.1</td>\n",
       "      <td>3.5</td>\n",
       "      <td>1.4</td>\n",
       "      <td>0.2</td>\n",
       "      <td>0</td>\n",
       "    </tr>\n",
       "    <tr>\n",
       "      <th>1</th>\n",
       "      <td>4.9</td>\n",
       "      <td>3.0</td>\n",
       "      <td>1.4</td>\n",
       "      <td>0.2</td>\n",
       "      <td>0</td>\n",
       "    </tr>\n",
       "    <tr>\n",
       "      <th>2</th>\n",
       "      <td>4.7</td>\n",
       "      <td>3.2</td>\n",
       "      <td>1.3</td>\n",
       "      <td>0.2</td>\n",
       "      <td>0</td>\n",
       "    </tr>\n",
       "    <tr>\n",
       "      <th>3</th>\n",
       "      <td>4.6</td>\n",
       "      <td>3.1</td>\n",
       "      <td>1.5</td>\n",
       "      <td>0.2</td>\n",
       "      <td>0</td>\n",
       "    </tr>\n",
       "    <tr>\n",
       "      <th>4</th>\n",
       "      <td>5.0</td>\n",
       "      <td>3.6</td>\n",
       "      <td>1.4</td>\n",
       "      <td>0.2</td>\n",
       "      <td>0</td>\n",
       "    </tr>\n",
       "    <tr>\n",
       "      <th>...</th>\n",
       "      <td>...</td>\n",
       "      <td>...</td>\n",
       "      <td>...</td>\n",
       "      <td>...</td>\n",
       "      <td>...</td>\n",
       "    </tr>\n",
       "    <tr>\n",
       "      <th>145</th>\n",
       "      <td>6.7</td>\n",
       "      <td>3.0</td>\n",
       "      <td>5.2</td>\n",
       "      <td>2.3</td>\n",
       "      <td>2</td>\n",
       "    </tr>\n",
       "    <tr>\n",
       "      <th>146</th>\n",
       "      <td>6.3</td>\n",
       "      <td>2.5</td>\n",
       "      <td>5.0</td>\n",
       "      <td>1.9</td>\n",
       "      <td>2</td>\n",
       "    </tr>\n",
       "    <tr>\n",
       "      <th>147</th>\n",
       "      <td>6.5</td>\n",
       "      <td>3.0</td>\n",
       "      <td>5.2</td>\n",
       "      <td>2.0</td>\n",
       "      <td>2</td>\n",
       "    </tr>\n",
       "    <tr>\n",
       "      <th>148</th>\n",
       "      <td>6.2</td>\n",
       "      <td>3.4</td>\n",
       "      <td>5.4</td>\n",
       "      <td>2.3</td>\n",
       "      <td>2</td>\n",
       "    </tr>\n",
       "    <tr>\n",
       "      <th>149</th>\n",
       "      <td>5.9</td>\n",
       "      <td>3.0</td>\n",
       "      <td>5.1</td>\n",
       "      <td>1.8</td>\n",
       "      <td>2</td>\n",
       "    </tr>\n",
       "  </tbody>\n",
       "</table>\n",
       "<p>150 rows × 5 columns</p>\n",
       "</div>"
      ],
      "text/plain": [
       "     SepalLengthCm  SepalWidthCm  PetalLengthCm  PetalWidthCm  type\n",
       "0              5.1           3.5            1.4           0.2     0\n",
       "1              4.9           3.0            1.4           0.2     0\n",
       "2              4.7           3.2            1.3           0.2     0\n",
       "3              4.6           3.1            1.5           0.2     0\n",
       "4              5.0           3.6            1.4           0.2     0\n",
       "..             ...           ...            ...           ...   ...\n",
       "145            6.7           3.0            5.2           2.3     2\n",
       "146            6.3           2.5            5.0           1.9     2\n",
       "147            6.5           3.0            5.2           2.0     2\n",
       "148            6.2           3.4            5.4           2.3     2\n",
       "149            5.9           3.0            5.1           1.8     2\n",
       "\n",
       "[150 rows x 5 columns]"
      ]
     },
     "execution_count": 6,
     "metadata": {},
     "output_type": "execute_result"
    }
   ],
   "source": [
    "df"
   ]
  },
  {
   "cell_type": "code",
   "execution_count": 33,
   "metadata": {},
   "outputs": [
    {
     "data": {
      "text/plain": [
       "(150, 5)"
      ]
     },
     "execution_count": 33,
     "metadata": {},
     "output_type": "execute_result"
    }
   ],
   "source": [
    "np.shape(df.iloc[:, 0:5])"
   ]
  },
  {
   "cell_type": "code",
   "execution_count": null,
   "metadata": {},
   "outputs": [],
   "source": [
    "class Node():\n",
    "    def __init__(self, feature_index, threshold, left_node, right_node, information_gain, value):\n",
    "        self.feature_index = feature_index\n",
    "        self.threshold = threshold\n",
    "        self.left_node = left_node\n",
    "        self.right_node = right_node\n",
    "        self.information_gain = information_gain\n",
    "        self.value = value\n",
    "\n",
    "\n",
    "class DecisionTreeClassifier():\n",
    "    def __init__(self, min_sample_split, max_depth):\n",
    "        self.root = None\n",
    "\n",
    "        self.min_sample_split = min_sample_split\n",
    "        self.max_depth = max_depth\n",
    "\n",
    "\n",
    "    def gini(self, thing):\n",
    "        labels = np.unique(thing)\n",
    "        gini = 0\n",
    "        for i in labels:\n",
    "            p = len(thing[thing == i]) / len(thing)\n",
    "            gini += 1 - p**2\n",
    "\n",
    "        return gini\n",
    "\n",
    "    def information_gain(self, parent, left_child, right_child):\n",
    "        l_weight = len(left_child) / len(parent)\n",
    "        r_weight = len(right_child) / len(parent)\n",
    "        information_gain = gini(parent) - (l_weight * gini(left_child) + r_weight * gini(right_child))\n",
    "        return information_gain\n",
    "\n",
    "\n",
    "    def split(self, dataset, threshold, feature_index):\n",
    "        for i in dataset\n",
    "\n",
    "    def best_split():\n",
    "\n",
    "\n",
    "\n",
    "\n",
    "\n",
    "    def build_tree(self, X, y, current_depth = 0):\n",
    "        num_samples = np.shape(X)\n",
    "        num_features = np.shape(X)\n",
    "        \n",
    "\n",
    "\n",
    "    def print_tree():\n",
    "\n",
    "\n",
    "    def fit():\n",
    "\n",
    "\n",
    "    def predict():"
   ]
  },
  {
   "cell_type": "code",
   "execution_count": null,
   "metadata": {},
   "outputs": [],
   "source": [
    "def gini_index(groups, classes):\n",
    "\t# count all samples at split point\n",
    "\tn_instances = float(sum([len(group) for group in groups]))\n",
    "\t# sum weighted Gini index for each group\n",
    "\tgini = 0.0\n",
    "\tfor group in groups:\n",
    "\t\tsize = float(len(group))\n",
    "\t\t# avoid divide by zero\n",
    "\t\tif size == 0:\n",
    "\t\t\tcontinue\n",
    "\t\tscore = 0.0\n",
    "\t\t# score the group based on the score for each class\n",
    "\t\tfor class_val in classes:\n",
    "\t\t\tp = [row[-1] for row in group].count(class_val) / size\n",
    "\t\t\tscore += p * p\n",
    "\t\t# weight the group score by its relative size\n",
    "\t\tgini += (1.0 - score) * (size / n_instances)\n",
    "\treturn gini"
   ]
  },
  {
   "cell_type": "code",
   "execution_count": 97,
   "metadata": {},
   "outputs": [],
   "source": [
    "# Gini Index with Help\n",
    "\n",
    "def gini_index(self, target):\n",
    "    feature_labels = np.unique(target)\n",
    "    g = 0\n",
    "    for i in feature_labels:\n",
    "        probability = len(target[target == i]) / len(target)\n",
    "        g += probability**2\n",
    "    return 1 - g"
   ]
  },
  {
   "cell_type": "code",
   "execution_count": null,
   "metadata": {},
   "outputs": [],
   "source": [
    "# First split with help\n",
    "\n",
    "def first_split(self, dataset, threshold):\n",
    "    for value in dataset:\n",
    "        if value[feature_index] <= threshold:\n",
    "            left_data = value\n",
    "        else:\n",
    "            right_data = value\n",
    "    return left_data, right_data"
   ]
  },
  {
   "cell_type": "code",
   "execution_count": null,
   "metadata": {},
   "outputs": [],
   "source": [
    "# Information Gain with help\n",
    "\n",
    "def information_gain(self, parent, left_child, right_child):\n",
    "    wl = len(left_child) / len(parent)\n",
    "    wr = len(right_child) / len(parent)\n",
    "    info_gain = gini_index(parent) - (wl * gini_index(left_child) + wr * gini_index(right_child))\n",
    "    return info_gain"
   ]
  },
  {
   "cell_type": "code",
   "execution_count": null,
   "metadata": {},
   "outputs": [],
   "source": [
    "def find_best_split(self, left_child, right_child, parent):\n",
    "    best_split = {}\n",
    "    max_info_gain = -float('inf')\n",
    "    for feature_index in range(num_features):\n",
    "        \n"
   ]
  },
  {
   "cell_type": "code",
   "execution_count": null,
   "metadata": {},
   "outputs": [],
   "source": [
    "# Have to think about the values of different columns that are different but belong to one specific row\n",
    "# Got to make changes to feature_index, concat does not work here\n",
    "\n",
    "def find_best_threshold(self, dataset):\n",
    "    possible_thresholds = {}\n",
    "    feature_index = pd.concat(dataset.to_numpy())\n",
    "\n",
    "    for i in feature_index:\n",
    "        possible_thresholds[i] = []\n",
    "\n",
    "        for keys in possible_thresholds:\n",
    "            left, right = first_split(dataset, keys)\n",
    "            possible_thresholds[keys] = information_gain(dataset, left, right)\n",
    "\n",
    "            best_threshold = max(possible_thresholds.values)\n",
    "\n",
    "    return best_threshold"
   ]
  },
  {
   "cell_type": "code",
   "execution_count": null,
   "metadata": {},
   "outputs": [],
   "source": [
    "# Stop the split\n",
    "\n",
    "def stop_split():\n",
    "    "
   ]
  },
  {
   "cell_type": "code",
   "execution_count": null,
   "metadata": {},
   "outputs": [],
   "source": [
    "# Split the dataset\n",
    "\n",
    "def split_node(self, dataset, ):\n",
    "    "
   ]
  },
  {
   "cell_type": "code",
   "execution_count": 44,
   "metadata": {},
   "outputs": [],
   "source": [
    "y = df.type"
   ]
  },
  {
   "cell_type": "code",
   "execution_count": 67,
   "metadata": {},
   "outputs": [
    {
     "name": "stdout",
     "output_type": "stream",
     "text": [
      "0.3333333333333333\n",
      "0.3333333333333333\n",
      "0.3333333333333333\n",
      "0.6666666666666667\n"
     ]
    }
   ],
   "source": [
    "g = 0\n",
    "features = np.unique(y)\n",
    "for i in features:\n",
    "    p = len(y[y == i])/len(y)\n",
    "    print(p)\n",
    "    g += p**2\n",
    "\n",
    "print(1 - g)"
   ]
  },
  {
   "cell_type": "code",
   "execution_count": 30,
   "metadata": {},
   "outputs": [
    {
     "name": "stdout",
     "output_type": "stream",
     "text": [
      "5.1\n",
      "4.9\n",
      "4.7\n",
      "4.6\n",
      "5.0\n",
      "5.4\n",
      "4.6\n",
      "5.0\n",
      "4.4\n",
      "4.9\n",
      "5.4\n",
      "4.8\n",
      "4.8\n",
      "4.3\n",
      "5.8\n",
      "5.7\n",
      "5.4\n",
      "5.1\n",
      "5.7\n",
      "5.1\n",
      "5.4\n",
      "5.1\n",
      "4.6\n",
      "5.1\n",
      "4.8\n",
      "5.0\n",
      "5.0\n",
      "5.2\n",
      "5.2\n",
      "4.7\n",
      "4.8\n",
      "5.4\n",
      "5.2\n",
      "5.5\n",
      "4.9\n",
      "5.0\n",
      "5.5\n",
      "4.9\n",
      "4.4\n",
      "5.1\n",
      "5.0\n",
      "4.5\n",
      "4.4\n",
      "5.0\n",
      "5.1\n",
      "4.8\n",
      "5.1\n",
      "4.6\n",
      "5.3\n",
      "5.0\n",
      "7.0\n",
      "6.4\n",
      "6.9\n",
      "5.5\n",
      "6.5\n",
      "5.7\n",
      "6.3\n",
      "4.9\n",
      "6.6\n",
      "5.2\n",
      "5.0\n",
      "5.9\n",
      "2.2\n",
      "2.9\n",
      "2.9\n",
      "3.1\n",
      "3.0\n",
      "4.1\n",
      "4.5\n",
      "3.9\n",
      "4.8\n",
      "4.0\n",
      "4.9\n",
      "4.7\n",
      "4.3\n",
      "4.4\n",
      "4.8\n",
      "5.0\n",
      "4.5\n",
      "3.5\n",
      "3.8\n",
      "3.7\n",
      "3.9\n",
      "5.1\n",
      "1.5\n",
      "1.6\n",
      "1.5\n",
      "1.3\n",
      "1.3\n",
      "1.3\n",
      "1.2\n",
      "1.4\n",
      "1.2\n",
      "1.0\n",
      "1.3\n",
      "1.2\n",
      "1.3\n",
      "1.3\n",
      "1.1\n",
      "1.3\n",
      "2.5\n",
      "1.9\n",
      "2.1\n",
      "1.8\n"
     ]
    },
    {
     "ename": "IndexError",
     "evalue": "index 4 is out of bounds for axis 0 with size 4",
     "output_type": "error",
     "traceback": [
      "\u001b[0;31m---------------------------------------------------------------------------\u001b[0m",
      "\u001b[0;31mIndexError\u001b[0m                                Traceback (most recent call last)",
      "\u001b[1;32m/Users/alisdghnia/Desktop/School - Graduate/Data Science Programming - Fall 2022/Decision-Tree-from-Scratch/Decision Tree Class.ipynb Cell 19\u001b[0m in \u001b[0;36m<cell line: 4>\u001b[0;34m()\u001b[0m\n\u001b[1;32m      <a href='vscode-notebook-cell:/Users/alisdghnia/Desktop/School%20-%20Graduate/Data%20Science%20Programming%20-%20Fall%202022/Decision-Tree-from-Scratch/Decision%20Tree%20Class.ipynb#X24sZmlsZQ%3D%3D?line=2'>3</a>\u001b[0m j \u001b[39m=\u001b[39m \u001b[39m0\u001b[39m\n\u001b[1;32m      <a href='vscode-notebook-cell:/Users/alisdghnia/Desktop/School%20-%20Graduate/Data%20Science%20Programming%20-%20Fall%202022/Decision-Tree-from-Scratch/Decision%20Tree%20Class.ipynb#X24sZmlsZQ%3D%3D?line=3'>4</a>\u001b[0m \u001b[39mfor\u001b[39;00m i \u001b[39min\u001b[39;00m \u001b[39mrange\u001b[39m(\u001b[39m150\u001b[39m):\n\u001b[0;32m----> <a href='vscode-notebook-cell:/Users/alisdghnia/Desktop/School%20-%20Graduate/Data%20Science%20Programming%20-%20Fall%202022/Decision-Tree-from-Scratch/Decision%20Tree%20Class.ipynb#X24sZmlsZQ%3D%3D?line=4'>5</a>\u001b[0m     \u001b[39mprint\u001b[39m(feature_index[i][j])\n\u001b[1;32m      <a href='vscode-notebook-cell:/Users/alisdghnia/Desktop/School%20-%20Graduate/Data%20Science%20Programming%20-%20Fall%202022/Decision-Tree-from-Scratch/Decision%20Tree%20Class.ipynb#X24sZmlsZQ%3D%3D?line=5'>6</a>\u001b[0m     \u001b[39mif\u001b[39;00m feature_index[i][j] \u001b[39m==\u001b[39m feature_index[\u001b[39m149\u001b[39m][j]:\n\u001b[1;32m      <a href='vscode-notebook-cell:/Users/alisdghnia/Desktop/School%20-%20Graduate/Data%20Science%20Programming%20-%20Fall%202022/Decision-Tree-from-Scratch/Decision%20Tree%20Class.ipynb#X24sZmlsZQ%3D%3D?line=6'>7</a>\u001b[0m         j \u001b[39m+\u001b[39m\u001b[39m=\u001b[39m \u001b[39m1\u001b[39m\n",
      "\u001b[0;31mIndexError\u001b[0m: index 4 is out of bounds for axis 0 with size 4"
     ]
    }
   ],
   "source": [
    "feature_index = df.iloc[:, 0:4].to_numpy()\n",
    "# print(feature_index)\n",
    "j = 0\n",
    "for i in range(150):\n",
    "    print(feature_index[i][j])\n",
    "    if feature_index[i][j] == feature_index[149][j]:\n",
    "        j += 1"
   ]
  },
  {
   "cell_type": "code",
   "execution_count": 78,
   "metadata": {},
   "outputs": [
    {
     "name": "stdout",
     "output_type": "stream",
     "text": [
      "[0.1 0.2 0.3 0.4 0.5 0.6 1.  1.1 1.2 1.3 1.4 1.5 1.6 1.7 1.8 1.9 2.  2.1\n",
      " 2.2 2.3 2.4 2.5 2.6 2.7 2.8 2.9 3.  3.1 3.2 3.3 3.4 3.5 3.6 3.7 3.8 3.9\n",
      " 4.  4.1 4.2 4.3 4.4 4.5 4.6 4.7 4.8 4.9 5.  5.1 5.2 5.3 5.4 5.5 5.6 5.7\n",
      " 5.8 5.9 6.  6.1 6.2 6.3 6.4 6.5 6.6 6.7 6.8 6.9 7.  7.1 7.2 7.3 7.4 7.6\n",
      " 7.7 7.9]\n"
     ]
    }
   ],
   "source": [
    "labels = np.unique(feature_index)\n",
    "print(labels)"
   ]
  },
  {
   "cell_type": "code",
   "execution_count": 384,
   "metadata": {},
   "outputs": [
    {
     "data": {
      "text/html": [
       "<div>\n",
       "<style scoped>\n",
       "    .dataframe tbody tr th:only-of-type {\n",
       "        vertical-align: middle;\n",
       "    }\n",
       "\n",
       "    .dataframe tbody tr th {\n",
       "        vertical-align: top;\n",
       "    }\n",
       "\n",
       "    .dataframe thead th {\n",
       "        text-align: right;\n",
       "    }\n",
       "</style>\n",
       "<table border=\"1\" class=\"dataframe\">\n",
       "  <thead>\n",
       "    <tr style=\"text-align: right;\">\n",
       "      <th></th>\n",
       "      <th>SepalLengthCm</th>\n",
       "      <th>SepalWidthCm</th>\n",
       "      <th>PetalLengthCm</th>\n",
       "      <th>PetalWidthCm</th>\n",
       "      <th>type</th>\n",
       "    </tr>\n",
       "  </thead>\n",
       "  <tbody>\n",
       "    <tr>\n",
       "      <th>0</th>\n",
       "      <td>5.1</td>\n",
       "      <td>3.5</td>\n",
       "      <td>1.4</td>\n",
       "      <td>0.2</td>\n",
       "      <td>0</td>\n",
       "    </tr>\n",
       "    <tr>\n",
       "      <th>1</th>\n",
       "      <td>4.9</td>\n",
       "      <td>3.0</td>\n",
       "      <td>1.4</td>\n",
       "      <td>0.2</td>\n",
       "      <td>0</td>\n",
       "    </tr>\n",
       "    <tr>\n",
       "      <th>2</th>\n",
       "      <td>4.7</td>\n",
       "      <td>3.2</td>\n",
       "      <td>1.3</td>\n",
       "      <td>0.2</td>\n",
       "      <td>0</td>\n",
       "    </tr>\n",
       "    <tr>\n",
       "      <th>3</th>\n",
       "      <td>4.6</td>\n",
       "      <td>3.1</td>\n",
       "      <td>1.5</td>\n",
       "      <td>0.2</td>\n",
       "      <td>0</td>\n",
       "    </tr>\n",
       "    <tr>\n",
       "      <th>4</th>\n",
       "      <td>5.0</td>\n",
       "      <td>3.6</td>\n",
       "      <td>1.4</td>\n",
       "      <td>0.2</td>\n",
       "      <td>0</td>\n",
       "    </tr>\n",
       "    <tr>\n",
       "      <th>...</th>\n",
       "      <td>...</td>\n",
       "      <td>...</td>\n",
       "      <td>...</td>\n",
       "      <td>...</td>\n",
       "      <td>...</td>\n",
       "    </tr>\n",
       "    <tr>\n",
       "      <th>145</th>\n",
       "      <td>6.7</td>\n",
       "      <td>3.0</td>\n",
       "      <td>5.2</td>\n",
       "      <td>2.3</td>\n",
       "      <td>2</td>\n",
       "    </tr>\n",
       "    <tr>\n",
       "      <th>146</th>\n",
       "      <td>6.3</td>\n",
       "      <td>2.5</td>\n",
       "      <td>5.0</td>\n",
       "      <td>1.9</td>\n",
       "      <td>2</td>\n",
       "    </tr>\n",
       "    <tr>\n",
       "      <th>147</th>\n",
       "      <td>6.5</td>\n",
       "      <td>3.0</td>\n",
       "      <td>5.2</td>\n",
       "      <td>2.0</td>\n",
       "      <td>2</td>\n",
       "    </tr>\n",
       "    <tr>\n",
       "      <th>148</th>\n",
       "      <td>6.2</td>\n",
       "      <td>3.4</td>\n",
       "      <td>5.4</td>\n",
       "      <td>2.3</td>\n",
       "      <td>2</td>\n",
       "    </tr>\n",
       "    <tr>\n",
       "      <th>149</th>\n",
       "      <td>5.9</td>\n",
       "      <td>3.0</td>\n",
       "      <td>5.1</td>\n",
       "      <td>1.8</td>\n",
       "      <td>2</td>\n",
       "    </tr>\n",
       "  </tbody>\n",
       "</table>\n",
       "<p>150 rows × 5 columns</p>\n",
       "</div>"
      ],
      "text/plain": [
       "     SepalLengthCm  SepalWidthCm  PetalLengthCm  PetalWidthCm  type\n",
       "0              5.1           3.5            1.4           0.2     0\n",
       "1              4.9           3.0            1.4           0.2     0\n",
       "2              4.7           3.2            1.3           0.2     0\n",
       "3              4.6           3.1            1.5           0.2     0\n",
       "4              5.0           3.6            1.4           0.2     0\n",
       "..             ...           ...            ...           ...   ...\n",
       "145            6.7           3.0            5.2           2.3     2\n",
       "146            6.3           2.5            5.0           1.9     2\n",
       "147            6.5           3.0            5.2           2.0     2\n",
       "148            6.2           3.4            5.4           2.3     2\n",
       "149            5.9           3.0            5.1           1.8     2\n",
       "\n",
       "[150 rows x 5 columns]"
      ]
     },
     "execution_count": 384,
     "metadata": {},
     "output_type": "execute_result"
    }
   ],
   "source": [
    "df"
   ]
  },
  {
   "cell_type": "code",
   "execution_count": 393,
   "metadata": {},
   "outputs": [
    {
     "data": {
      "text/plain": [
       "{'SepalL': 0      0.2\n",
       " 1      0.2\n",
       " 2      0.2\n",
       " 3      0.2\n",
       " 4      0.2\n",
       "       ... \n",
       " 145    2.3\n",
       " 146    1.9\n",
       " 147    2.0\n",
       " 148    2.3\n",
       " 149    1.8\n",
       " Name: PetalWidthCm, Length: 150, dtype: float64,\n",
       " 'SepalW': 0      0.2\n",
       " 1      0.2\n",
       " 2      0.2\n",
       " 3      0.2\n",
       " 4      0.2\n",
       "       ... \n",
       " 145    2.3\n",
       " 146    1.9\n",
       " 147    2.0\n",
       " 148    2.3\n",
       " 149    1.8\n",
       " Name: PetalWidthCm, Length: 150, dtype: float64,\n",
       " 'PetalL': 0      0.2\n",
       " 1      0.2\n",
       " 2      0.2\n",
       " 3      0.2\n",
       " 4      0.2\n",
       "       ... \n",
       " 145    2.3\n",
       " 146    1.9\n",
       " 147    2.0\n",
       " 148    2.3\n",
       " 149    1.8\n",
       " Name: PetalWidthCm, Length: 150, dtype: float64,\n",
       " 'PetalW': 0      0.2\n",
       " 1      0.2\n",
       " 2      0.2\n",
       " 3      0.2\n",
       " 4      0.2\n",
       "       ... \n",
       " 145    2.3\n",
       " 146    1.9\n",
       " 147    2.0\n",
       " 148    2.3\n",
       " 149    1.8\n",
       " Name: PetalWidthCm, Length: 150, dtype: float64}"
      ]
     },
     "execution_count": 393,
     "metadata": {},
     "output_type": "execute_result"
    }
   ],
   "source": [
    "df_dict = {}\n",
    "names = ['SepalL','SepalW','PetalL','PetalW']\n",
    "\n",
    "for i in range(4):\n",
    "    list =df.iloc[:, i]\n",
    "    # print(list)\n",
    "    for name in names:\n",
    "        df_dict[name] = list\n",
    "df_dict"
   ]
  },
  {
   "cell_type": "code",
   "execution_count": 94,
   "metadata": {},
   "outputs": [
    {
     "name": "stdout",
     "output_type": "stream",
     "text": [
      "93\n"
     ]
    }
   ],
   "source": [
    "from random import randrange\n",
    "\n",
    "print(randrange(len(df)))"
   ]
  },
  {
   "cell_type": "code",
   "execution_count": 381,
   "metadata": {},
   "outputs": [
    {
     "data": {
      "text/plain": [
       "4"
      ]
     },
     "execution_count": 381,
     "metadata": {},
     "output_type": "execute_result"
    }
   ],
   "source": [
    "len(feature_index[0])"
   ]
  },
  {
   "cell_type": "code",
   "execution_count": 71,
   "metadata": {},
   "outputs": [],
   "source": [
    "def information_gain(parent, left_child, right_child):\n",
    "    wl = len(left_child) / len(parent)\n",
    "    wr = len(right_child) / len(parent)\n",
    "    info_gain = gini_index(parent) - (wl * gini_index(left_child) + wr * gini_index(right_child))\n",
    "    return info_gain"
   ]
  },
  {
   "cell_type": "code",
   "execution_count": 7,
   "metadata": {},
   "outputs": [],
   "source": [
    "# Gini Index with Help\n",
    "\n",
    "def gini_index(target):\n",
    "    feature_labels = np.unique(target)\n",
    "    g = 0\n",
    "    for i in feature_labels:\n",
    "        probability = len(target[target == i]) / len(target)\n",
    "        g += probability**2\n",
    "    return 1 - g"
   ]
  },
  {
   "cell_type": "code",
   "execution_count": 127,
   "metadata": {},
   "outputs": [
    {
     "name": "stdout",
     "output_type": "stream",
     "text": [
      "{'SepalL': array([5.1, 4.9, 4.7, 4.6, 5. , 5.4, 4.6, 5. , 4.4, 4.9, 5.4, 4.8, 4.8,\n",
      "       4.3, 5.8, 5.7, 5.4, 5.1, 5.7, 5.1, 5.4, 5.1, 4.6, 5.1, 4.8, 5. ,\n",
      "       5. , 5.2, 5.2, 4.7, 4.8, 5.4, 5.2, 5.5, 4.9, 5. , 5.5, 4.9, 4.4,\n",
      "       5.1, 5. , 4.5, 4.4, 5. , 5.1, 4.8, 5.1, 4.6, 5.3, 5. , 7. , 6.4,\n",
      "       6.9, 5.5, 6.5, 5.7, 6.3, 4.9, 6.6, 5.2, 5. , 5.9, 6. , 6.1, 5.6,\n",
      "       6.7, 5.6, 5.8, 6.2, 5.6, 5.9, 6.1, 6.3, 6.1, 6.4, 6.6, 6.8, 6.7,\n",
      "       6. , 5.7, 5.5, 5.5, 5.8, 6. , 5.4, 6. , 6.7, 6.3, 5.6, 5.5, 5.5,\n",
      "       6.1, 5.8, 5. , 5.6, 5.7, 5.7, 6.2, 5.1, 5.7, 6.3, 5.8, 7.1, 6.3,\n",
      "       6.5, 7.6, 4.9, 7.3, 6.7, 7.2, 6.5, 6.4, 6.8, 5.7, 5.8, 6.4, 6.5,\n",
      "       7.7, 7.7, 6. , 6.9, 5.6, 7.7, 6.3, 6.7, 7.2, 6.2, 6.1, 6.4, 7.2,\n",
      "       7.4, 7.9, 6.4, 6.3, 6.1, 7.7, 6.3, 6.4, 6. , 6.9, 6.7, 6.9, 5.8,\n",
      "       6.8, 6.7, 6.7, 6.3, 6.5, 6.2, 5.9]), 'SepalW': array([5.1, 4.9, 4.7, 4.6, 5. , 5.4, 4.6, 5. , 4.4, 4.9, 5.4, 4.8, 4.8,\n",
      "       4.3, 5.8, 5.7, 5.4, 5.1, 5.7, 5.1, 5.4, 5.1, 4.6, 5.1, 4.8, 5. ,\n",
      "       5. , 5.2, 5.2, 4.7, 4.8, 5.4, 5.2, 5.5, 4.9, 5. , 5.5, 4.9, 4.4,\n",
      "       5.1, 5. , 4.5, 4.4, 5. , 5.1, 4.8, 5.1, 4.6, 5.3, 5. , 7. , 6.4,\n",
      "       6.9, 5.5, 6.5, 5.7, 6.3, 4.9, 6.6, 5.2, 5. , 5.9, 6. , 6.1, 5.6,\n",
      "       6.7, 5.6, 5.8, 6.2, 5.6, 5.9, 6.1, 6.3, 6.1, 6.4, 6.6, 6.8, 6.7,\n",
      "       6. , 5.7, 5.5, 5.5, 5.8, 6. , 5.4, 6. , 6.7, 6.3, 5.6, 5.5, 5.5,\n",
      "       6.1, 5.8, 5. , 5.6, 5.7, 5.7, 6.2, 5.1, 5.7, 6.3, 5.8, 7.1, 6.3,\n",
      "       6.5, 7.6, 4.9, 7.3, 6.7, 7.2, 6.5, 6.4, 6.8, 5.7, 5.8, 6.4, 6.5,\n",
      "       7.7, 7.7, 6. , 6.9, 5.6, 7.7, 6.3, 6.7, 7.2, 6.2, 6.1, 6.4, 7.2,\n",
      "       7.4, 7.9, 6.4, 6.3, 6.1, 7.7, 6.3, 6.4, 6. , 6.9, 6.7, 6.9, 5.8,\n",
      "       6.8, 6.7, 6.7, 6.3, 6.5, 6.2, 5.9]), 'PetalL': array([5.1, 4.9, 4.7, 4.6, 5. , 5.4, 4.6, 5. , 4.4, 4.9, 5.4, 4.8, 4.8,\n",
      "       4.3, 5.8, 5.7, 5.4, 5.1, 5.7, 5.1, 5.4, 5.1, 4.6, 5.1, 4.8, 5. ,\n",
      "       5. , 5.2, 5.2, 4.7, 4.8, 5.4, 5.2, 5.5, 4.9, 5. , 5.5, 4.9, 4.4,\n",
      "       5.1, 5. , 4.5, 4.4, 5. , 5.1, 4.8, 5.1, 4.6, 5.3, 5. , 7. , 6.4,\n",
      "       6.9, 5.5, 6.5, 5.7, 6.3, 4.9, 6.6, 5.2, 5. , 5.9, 6. , 6.1, 5.6,\n",
      "       6.7, 5.6, 5.8, 6.2, 5.6, 5.9, 6.1, 6.3, 6.1, 6.4, 6.6, 6.8, 6.7,\n",
      "       6. , 5.7, 5.5, 5.5, 5.8, 6. , 5.4, 6. , 6.7, 6.3, 5.6, 5.5, 5.5,\n",
      "       6.1, 5.8, 5. , 5.6, 5.7, 5.7, 6.2, 5.1, 5.7, 6.3, 5.8, 7.1, 6.3,\n",
      "       6.5, 7.6, 4.9, 7.3, 6.7, 7.2, 6.5, 6.4, 6.8, 5.7, 5.8, 6.4, 6.5,\n",
      "       7.7, 7.7, 6. , 6.9, 5.6, 7.7, 6.3, 6.7, 7.2, 6.2, 6.1, 6.4, 7.2,\n",
      "       7.4, 7.9, 6.4, 6.3, 6.1, 7.7, 6.3, 6.4, 6. , 6.9, 6.7, 6.9, 5.8,\n",
      "       6.8, 6.7, 6.7, 6.3, 6.5, 6.2, 5.9]), 'PetalW': array([5.1, 4.9, 4.7, 4.6, 5. , 5.4, 4.6, 5. , 4.4, 4.9, 5.4, 4.8, 4.8,\n",
      "       4.3, 5.8, 5.7, 5.4, 5.1, 5.7, 5.1, 5.4, 5.1, 4.6, 5.1, 4.8, 5. ,\n",
      "       5. , 5.2, 5.2, 4.7, 4.8, 5.4, 5.2, 5.5, 4.9, 5. , 5.5, 4.9, 4.4,\n",
      "       5.1, 5. , 4.5, 4.4, 5. , 5.1, 4.8, 5.1, 4.6, 5.3, 5. , 7. , 6.4,\n",
      "       6.9, 5.5, 6.5, 5.7, 6.3, 4.9, 6.6, 5.2, 5. , 5.9, 6. , 6.1, 5.6,\n",
      "       6.7, 5.6, 5.8, 6.2, 5.6, 5.9, 6.1, 6.3, 6.1, 6.4, 6.6, 6.8, 6.7,\n",
      "       6. , 5.7, 5.5, 5.5, 5.8, 6. , 5.4, 6. , 6.7, 6.3, 5.6, 5.5, 5.5,\n",
      "       6.1, 5.8, 5. , 5.6, 5.7, 5.7, 6.2, 5.1, 5.7, 6.3, 5.8, 7.1, 6.3,\n",
      "       6.5, 7.6, 4.9, 7.3, 6.7, 7.2, 6.5, 6.4, 6.8, 5.7, 5.8, 6.4, 6.5,\n",
      "       7.7, 7.7, 6. , 6.9, 5.6, 7.7, 6.3, 6.7, 7.2, 6.2, 6.1, 6.4, 7.2,\n",
      "       7.4, 7.9, 6.4, 6.3, 6.1, 7.7, 6.3, 6.4, 6. , 6.9, 6.7, 6.9, 5.8,\n",
      "       6.8, 6.7, 6.7, 6.3, 6.5, 6.2, 5.9])}\n",
      "{'SepalL': array([3.5, 3. , 3.2, 3.1, 3.6, 3.9, 3.4, 3.4, 2.9, 3.1, 3.7, 3.4, 3. ,\n",
      "       3. , 4. , 4.4, 3.9, 3.5, 3.8, 3.8, 3.4, 3.7, 3.6, 3.3, 3.4, 3. ,\n",
      "       3.4, 3.5, 3.4, 3.2, 3.1, 3.4, 4.1, 4.2, 3.1, 3.2, 3.5, 3.1, 3. ,\n",
      "       3.4, 3.5, 2.3, 3.2, 3.5, 3.8, 3. , 3.8, 3.2, 3.7, 3.3, 3.2, 3.2,\n",
      "       3.1, 2.3, 2.8, 2.8, 3.3, 2.4, 2.9, 2.7, 2. , 3. , 2.2, 2.9, 2.9,\n",
      "       3.1, 3. , 2.7, 2.2, 2.5, 3.2, 2.8, 2.5, 2.8, 2.9, 3. , 2.8, 3. ,\n",
      "       2.9, 2.6, 2.4, 2.4, 2.7, 2.7, 3. , 3.4, 3.1, 2.3, 3. , 2.5, 2.6,\n",
      "       3. , 2.6, 2.3, 2.7, 3. , 2.9, 2.9, 2.5, 2.8, 3.3, 2.7, 3. , 2.9,\n",
      "       3. , 3. , 2.5, 2.9, 2.5, 3.6, 3.2, 2.7, 3. , 2.5, 2.8, 3.2, 3. ,\n",
      "       3.8, 2.6, 2.2, 3.2, 2.8, 2.8, 2.7, 3.3, 3.2, 2.8, 3. , 2.8, 3. ,\n",
      "       2.8, 3.8, 2.8, 2.8, 2.6, 3. , 3.4, 3.1, 3. , 3.1, 3.1, 3.1, 2.7,\n",
      "       3.2, 3.3, 3. , 2.5, 3. , 3.4, 3. ]), 'SepalW': array([3.5, 3. , 3.2, 3.1, 3.6, 3.9, 3.4, 3.4, 2.9, 3.1, 3.7, 3.4, 3. ,\n",
      "       3. , 4. , 4.4, 3.9, 3.5, 3.8, 3.8, 3.4, 3.7, 3.6, 3.3, 3.4, 3. ,\n",
      "       3.4, 3.5, 3.4, 3.2, 3.1, 3.4, 4.1, 4.2, 3.1, 3.2, 3.5, 3.1, 3. ,\n",
      "       3.4, 3.5, 2.3, 3.2, 3.5, 3.8, 3. , 3.8, 3.2, 3.7, 3.3, 3.2, 3.2,\n",
      "       3.1, 2.3, 2.8, 2.8, 3.3, 2.4, 2.9, 2.7, 2. , 3. , 2.2, 2.9, 2.9,\n",
      "       3.1, 3. , 2.7, 2.2, 2.5, 3.2, 2.8, 2.5, 2.8, 2.9, 3. , 2.8, 3. ,\n",
      "       2.9, 2.6, 2.4, 2.4, 2.7, 2.7, 3. , 3.4, 3.1, 2.3, 3. , 2.5, 2.6,\n",
      "       3. , 2.6, 2.3, 2.7, 3. , 2.9, 2.9, 2.5, 2.8, 3.3, 2.7, 3. , 2.9,\n",
      "       3. , 3. , 2.5, 2.9, 2.5, 3.6, 3.2, 2.7, 3. , 2.5, 2.8, 3.2, 3. ,\n",
      "       3.8, 2.6, 2.2, 3.2, 2.8, 2.8, 2.7, 3.3, 3.2, 2.8, 3. , 2.8, 3. ,\n",
      "       2.8, 3.8, 2.8, 2.8, 2.6, 3. , 3.4, 3.1, 3. , 3.1, 3.1, 3.1, 2.7,\n",
      "       3.2, 3.3, 3. , 2.5, 3. , 3.4, 3. ]), 'PetalL': array([3.5, 3. , 3.2, 3.1, 3.6, 3.9, 3.4, 3.4, 2.9, 3.1, 3.7, 3.4, 3. ,\n",
      "       3. , 4. , 4.4, 3.9, 3.5, 3.8, 3.8, 3.4, 3.7, 3.6, 3.3, 3.4, 3. ,\n",
      "       3.4, 3.5, 3.4, 3.2, 3.1, 3.4, 4.1, 4.2, 3.1, 3.2, 3.5, 3.1, 3. ,\n",
      "       3.4, 3.5, 2.3, 3.2, 3.5, 3.8, 3. , 3.8, 3.2, 3.7, 3.3, 3.2, 3.2,\n",
      "       3.1, 2.3, 2.8, 2.8, 3.3, 2.4, 2.9, 2.7, 2. , 3. , 2.2, 2.9, 2.9,\n",
      "       3.1, 3. , 2.7, 2.2, 2.5, 3.2, 2.8, 2.5, 2.8, 2.9, 3. , 2.8, 3. ,\n",
      "       2.9, 2.6, 2.4, 2.4, 2.7, 2.7, 3. , 3.4, 3.1, 2.3, 3. , 2.5, 2.6,\n",
      "       3. , 2.6, 2.3, 2.7, 3. , 2.9, 2.9, 2.5, 2.8, 3.3, 2.7, 3. , 2.9,\n",
      "       3. , 3. , 2.5, 2.9, 2.5, 3.6, 3.2, 2.7, 3. , 2.5, 2.8, 3.2, 3. ,\n",
      "       3.8, 2.6, 2.2, 3.2, 2.8, 2.8, 2.7, 3.3, 3.2, 2.8, 3. , 2.8, 3. ,\n",
      "       2.8, 3.8, 2.8, 2.8, 2.6, 3. , 3.4, 3.1, 3. , 3.1, 3.1, 3.1, 2.7,\n",
      "       3.2, 3.3, 3. , 2.5, 3. , 3.4, 3. ]), 'PetalW': array([3.5, 3. , 3.2, 3.1, 3.6, 3.9, 3.4, 3.4, 2.9, 3.1, 3.7, 3.4, 3. ,\n",
      "       3. , 4. , 4.4, 3.9, 3.5, 3.8, 3.8, 3.4, 3.7, 3.6, 3.3, 3.4, 3. ,\n",
      "       3.4, 3.5, 3.4, 3.2, 3.1, 3.4, 4.1, 4.2, 3.1, 3.2, 3.5, 3.1, 3. ,\n",
      "       3.4, 3.5, 2.3, 3.2, 3.5, 3.8, 3. , 3.8, 3.2, 3.7, 3.3, 3.2, 3.2,\n",
      "       3.1, 2.3, 2.8, 2.8, 3.3, 2.4, 2.9, 2.7, 2. , 3. , 2.2, 2.9, 2.9,\n",
      "       3.1, 3. , 2.7, 2.2, 2.5, 3.2, 2.8, 2.5, 2.8, 2.9, 3. , 2.8, 3. ,\n",
      "       2.9, 2.6, 2.4, 2.4, 2.7, 2.7, 3. , 3.4, 3.1, 2.3, 3. , 2.5, 2.6,\n",
      "       3. , 2.6, 2.3, 2.7, 3. , 2.9, 2.9, 2.5, 2.8, 3.3, 2.7, 3. , 2.9,\n",
      "       3. , 3. , 2.5, 2.9, 2.5, 3.6, 3.2, 2.7, 3. , 2.5, 2.8, 3.2, 3. ,\n",
      "       3.8, 2.6, 2.2, 3.2, 2.8, 2.8, 2.7, 3.3, 3.2, 2.8, 3. , 2.8, 3. ,\n",
      "       2.8, 3.8, 2.8, 2.8, 2.6, 3. , 3.4, 3.1, 3. , 3.1, 3.1, 3.1, 2.7,\n",
      "       3.2, 3.3, 3. , 2.5, 3. , 3.4, 3. ])}\n",
      "{'SepalL': array([1.4, 1.4, 1.3, 1.5, 1.4, 1.7, 1.4, 1.5, 1.4, 1.5, 1.5, 1.6, 1.4,\n",
      "       1.1, 1.2, 1.5, 1.3, 1.4, 1.7, 1.5, 1.7, 1.5, 1. , 1.7, 1.9, 1.6,\n",
      "       1.6, 1.5, 1.4, 1.6, 1.6, 1.5, 1.5, 1.4, 1.5, 1.2, 1.3, 1.5, 1.3,\n",
      "       1.5, 1.3, 1.3, 1.3, 1.6, 1.9, 1.4, 1.6, 1.4, 1.5, 1.4, 4.7, 4.5,\n",
      "       4.9, 4. , 4.6, 4.5, 4.7, 3.3, 4.6, 3.9, 3.5, 4.2, 4. , 4.7, 3.6,\n",
      "       4.4, 4.5, 4.1, 4.5, 3.9, 4.8, 4. , 4.9, 4.7, 4.3, 4.4, 4.8, 5. ,\n",
      "       4.5, 3.5, 3.8, 3.7, 3.9, 5.1, 4.5, 4.5, 4.7, 4.4, 4.1, 4. , 4.4,\n",
      "       4.6, 4. , 3.3, 4.2, 4.2, 4.2, 4.3, 3. , 4.1, 6. , 5.1, 5.9, 5.6,\n",
      "       5.8, 6.6, 4.5, 6.3, 5.8, 6.1, 5.1, 5.3, 5.5, 5. , 5.1, 5.3, 5.5,\n",
      "       6.7, 6.9, 5. , 5.7, 4.9, 6.7, 4.9, 5.7, 6. , 4.8, 4.9, 5.6, 5.8,\n",
      "       6.1, 6.4, 5.6, 5.1, 5.6, 6.1, 5.6, 5.5, 4.8, 5.4, 5.6, 5.1, 5.1,\n",
      "       5.9, 5.7, 5.2, 5. , 5.2, 5.4, 5.1]), 'SepalW': array([1.4, 1.4, 1.3, 1.5, 1.4, 1.7, 1.4, 1.5, 1.4, 1.5, 1.5, 1.6, 1.4,\n",
      "       1.1, 1.2, 1.5, 1.3, 1.4, 1.7, 1.5, 1.7, 1.5, 1. , 1.7, 1.9, 1.6,\n",
      "       1.6, 1.5, 1.4, 1.6, 1.6, 1.5, 1.5, 1.4, 1.5, 1.2, 1.3, 1.5, 1.3,\n",
      "       1.5, 1.3, 1.3, 1.3, 1.6, 1.9, 1.4, 1.6, 1.4, 1.5, 1.4, 4.7, 4.5,\n",
      "       4.9, 4. , 4.6, 4.5, 4.7, 3.3, 4.6, 3.9, 3.5, 4.2, 4. , 4.7, 3.6,\n",
      "       4.4, 4.5, 4.1, 4.5, 3.9, 4.8, 4. , 4.9, 4.7, 4.3, 4.4, 4.8, 5. ,\n",
      "       4.5, 3.5, 3.8, 3.7, 3.9, 5.1, 4.5, 4.5, 4.7, 4.4, 4.1, 4. , 4.4,\n",
      "       4.6, 4. , 3.3, 4.2, 4.2, 4.2, 4.3, 3. , 4.1, 6. , 5.1, 5.9, 5.6,\n",
      "       5.8, 6.6, 4.5, 6.3, 5.8, 6.1, 5.1, 5.3, 5.5, 5. , 5.1, 5.3, 5.5,\n",
      "       6.7, 6.9, 5. , 5.7, 4.9, 6.7, 4.9, 5.7, 6. , 4.8, 4.9, 5.6, 5.8,\n",
      "       6.1, 6.4, 5.6, 5.1, 5.6, 6.1, 5.6, 5.5, 4.8, 5.4, 5.6, 5.1, 5.1,\n",
      "       5.9, 5.7, 5.2, 5. , 5.2, 5.4, 5.1]), 'PetalL': array([1.4, 1.4, 1.3, 1.5, 1.4, 1.7, 1.4, 1.5, 1.4, 1.5, 1.5, 1.6, 1.4,\n",
      "       1.1, 1.2, 1.5, 1.3, 1.4, 1.7, 1.5, 1.7, 1.5, 1. , 1.7, 1.9, 1.6,\n",
      "       1.6, 1.5, 1.4, 1.6, 1.6, 1.5, 1.5, 1.4, 1.5, 1.2, 1.3, 1.5, 1.3,\n",
      "       1.5, 1.3, 1.3, 1.3, 1.6, 1.9, 1.4, 1.6, 1.4, 1.5, 1.4, 4.7, 4.5,\n",
      "       4.9, 4. , 4.6, 4.5, 4.7, 3.3, 4.6, 3.9, 3.5, 4.2, 4. , 4.7, 3.6,\n",
      "       4.4, 4.5, 4.1, 4.5, 3.9, 4.8, 4. , 4.9, 4.7, 4.3, 4.4, 4.8, 5. ,\n",
      "       4.5, 3.5, 3.8, 3.7, 3.9, 5.1, 4.5, 4.5, 4.7, 4.4, 4.1, 4. , 4.4,\n",
      "       4.6, 4. , 3.3, 4.2, 4.2, 4.2, 4.3, 3. , 4.1, 6. , 5.1, 5.9, 5.6,\n",
      "       5.8, 6.6, 4.5, 6.3, 5.8, 6.1, 5.1, 5.3, 5.5, 5. , 5.1, 5.3, 5.5,\n",
      "       6.7, 6.9, 5. , 5.7, 4.9, 6.7, 4.9, 5.7, 6. , 4.8, 4.9, 5.6, 5.8,\n",
      "       6.1, 6.4, 5.6, 5.1, 5.6, 6.1, 5.6, 5.5, 4.8, 5.4, 5.6, 5.1, 5.1,\n",
      "       5.9, 5.7, 5.2, 5. , 5.2, 5.4, 5.1]), 'PetalW': array([1.4, 1.4, 1.3, 1.5, 1.4, 1.7, 1.4, 1.5, 1.4, 1.5, 1.5, 1.6, 1.4,\n",
      "       1.1, 1.2, 1.5, 1.3, 1.4, 1.7, 1.5, 1.7, 1.5, 1. , 1.7, 1.9, 1.6,\n",
      "       1.6, 1.5, 1.4, 1.6, 1.6, 1.5, 1.5, 1.4, 1.5, 1.2, 1.3, 1.5, 1.3,\n",
      "       1.5, 1.3, 1.3, 1.3, 1.6, 1.9, 1.4, 1.6, 1.4, 1.5, 1.4, 4.7, 4.5,\n",
      "       4.9, 4. , 4.6, 4.5, 4.7, 3.3, 4.6, 3.9, 3.5, 4.2, 4. , 4.7, 3.6,\n",
      "       4.4, 4.5, 4.1, 4.5, 3.9, 4.8, 4. , 4.9, 4.7, 4.3, 4.4, 4.8, 5. ,\n",
      "       4.5, 3.5, 3.8, 3.7, 3.9, 5.1, 4.5, 4.5, 4.7, 4.4, 4.1, 4. , 4.4,\n",
      "       4.6, 4. , 3.3, 4.2, 4.2, 4.2, 4.3, 3. , 4.1, 6. , 5.1, 5.9, 5.6,\n",
      "       5.8, 6.6, 4.5, 6.3, 5.8, 6.1, 5.1, 5.3, 5.5, 5. , 5.1, 5.3, 5.5,\n",
      "       6.7, 6.9, 5. , 5.7, 4.9, 6.7, 4.9, 5.7, 6. , 4.8, 4.9, 5.6, 5.8,\n",
      "       6.1, 6.4, 5.6, 5.1, 5.6, 6.1, 5.6, 5.5, 4.8, 5.4, 5.6, 5.1, 5.1,\n",
      "       5.9, 5.7, 5.2, 5. , 5.2, 5.4, 5.1])}\n",
      "{'SepalL': array([0.2, 0.2, 0.2, 0.2, 0.2, 0.4, 0.3, 0.2, 0.2, 0.1, 0.2, 0.2, 0.1,\n",
      "       0.1, 0.2, 0.4, 0.4, 0.3, 0.3, 0.3, 0.2, 0.4, 0.2, 0.5, 0.2, 0.2,\n",
      "       0.4, 0.2, 0.2, 0.2, 0.2, 0.4, 0.1, 0.2, 0.1, 0.2, 0.2, 0.1, 0.2,\n",
      "       0.2, 0.3, 0.3, 0.2, 0.6, 0.4, 0.3, 0.2, 0.2, 0.2, 0.2, 1.4, 1.5,\n",
      "       1.5, 1.3, 1.5, 1.3, 1.6, 1. , 1.3, 1.4, 1. , 1.5, 1. , 1.4, 1.3,\n",
      "       1.4, 1.5, 1. , 1.5, 1.1, 1.8, 1.3, 1.5, 1.2, 1.3, 1.4, 1.4, 1.7,\n",
      "       1.5, 1. , 1.1, 1. , 1.2, 1.6, 1.5, 1.6, 1.5, 1.3, 1.3, 1.3, 1.2,\n",
      "       1.4, 1.2, 1. , 1.3, 1.2, 1.3, 1.3, 1.1, 1.3, 2.5, 1.9, 2.1, 1.8,\n",
      "       2.2, 2.1, 1.7, 1.8, 1.8, 2.5, 2. , 1.9, 2.1, 2. , 2.4, 2.3, 1.8,\n",
      "       2.2, 2.3, 1.5, 2.3, 2. , 2. , 1.8, 2.1, 1.8, 1.8, 1.8, 2.1, 1.6,\n",
      "       1.9, 2. , 2.2, 1.5, 1.4, 2.3, 2.4, 1.8, 1.8, 2.1, 2.4, 2.3, 1.9,\n",
      "       2.3, 2.5, 2.3, 1.9, 2. , 2.3, 1.8]), 'SepalW': array([0.2, 0.2, 0.2, 0.2, 0.2, 0.4, 0.3, 0.2, 0.2, 0.1, 0.2, 0.2, 0.1,\n",
      "       0.1, 0.2, 0.4, 0.4, 0.3, 0.3, 0.3, 0.2, 0.4, 0.2, 0.5, 0.2, 0.2,\n",
      "       0.4, 0.2, 0.2, 0.2, 0.2, 0.4, 0.1, 0.2, 0.1, 0.2, 0.2, 0.1, 0.2,\n",
      "       0.2, 0.3, 0.3, 0.2, 0.6, 0.4, 0.3, 0.2, 0.2, 0.2, 0.2, 1.4, 1.5,\n",
      "       1.5, 1.3, 1.5, 1.3, 1.6, 1. , 1.3, 1.4, 1. , 1.5, 1. , 1.4, 1.3,\n",
      "       1.4, 1.5, 1. , 1.5, 1.1, 1.8, 1.3, 1.5, 1.2, 1.3, 1.4, 1.4, 1.7,\n",
      "       1.5, 1. , 1.1, 1. , 1.2, 1.6, 1.5, 1.6, 1.5, 1.3, 1.3, 1.3, 1.2,\n",
      "       1.4, 1.2, 1. , 1.3, 1.2, 1.3, 1.3, 1.1, 1.3, 2.5, 1.9, 2.1, 1.8,\n",
      "       2.2, 2.1, 1.7, 1.8, 1.8, 2.5, 2. , 1.9, 2.1, 2. , 2.4, 2.3, 1.8,\n",
      "       2.2, 2.3, 1.5, 2.3, 2. , 2. , 1.8, 2.1, 1.8, 1.8, 1.8, 2.1, 1.6,\n",
      "       1.9, 2. , 2.2, 1.5, 1.4, 2.3, 2.4, 1.8, 1.8, 2.1, 2.4, 2.3, 1.9,\n",
      "       2.3, 2.5, 2.3, 1.9, 2. , 2.3, 1.8]), 'PetalL': array([0.2, 0.2, 0.2, 0.2, 0.2, 0.4, 0.3, 0.2, 0.2, 0.1, 0.2, 0.2, 0.1,\n",
      "       0.1, 0.2, 0.4, 0.4, 0.3, 0.3, 0.3, 0.2, 0.4, 0.2, 0.5, 0.2, 0.2,\n",
      "       0.4, 0.2, 0.2, 0.2, 0.2, 0.4, 0.1, 0.2, 0.1, 0.2, 0.2, 0.1, 0.2,\n",
      "       0.2, 0.3, 0.3, 0.2, 0.6, 0.4, 0.3, 0.2, 0.2, 0.2, 0.2, 1.4, 1.5,\n",
      "       1.5, 1.3, 1.5, 1.3, 1.6, 1. , 1.3, 1.4, 1. , 1.5, 1. , 1.4, 1.3,\n",
      "       1.4, 1.5, 1. , 1.5, 1.1, 1.8, 1.3, 1.5, 1.2, 1.3, 1.4, 1.4, 1.7,\n",
      "       1.5, 1. , 1.1, 1. , 1.2, 1.6, 1.5, 1.6, 1.5, 1.3, 1.3, 1.3, 1.2,\n",
      "       1.4, 1.2, 1. , 1.3, 1.2, 1.3, 1.3, 1.1, 1.3, 2.5, 1.9, 2.1, 1.8,\n",
      "       2.2, 2.1, 1.7, 1.8, 1.8, 2.5, 2. , 1.9, 2.1, 2. , 2.4, 2.3, 1.8,\n",
      "       2.2, 2.3, 1.5, 2.3, 2. , 2. , 1.8, 2.1, 1.8, 1.8, 1.8, 2.1, 1.6,\n",
      "       1.9, 2. , 2.2, 1.5, 1.4, 2.3, 2.4, 1.8, 1.8, 2.1, 2.4, 2.3, 1.9,\n",
      "       2.3, 2.5, 2.3, 1.9, 2. , 2.3, 1.8]), 'PetalW': array([0.2, 0.2, 0.2, 0.2, 0.2, 0.4, 0.3, 0.2, 0.2, 0.1, 0.2, 0.2, 0.1,\n",
      "       0.1, 0.2, 0.4, 0.4, 0.3, 0.3, 0.3, 0.2, 0.4, 0.2, 0.5, 0.2, 0.2,\n",
      "       0.4, 0.2, 0.2, 0.2, 0.2, 0.4, 0.1, 0.2, 0.1, 0.2, 0.2, 0.1, 0.2,\n",
      "       0.2, 0.3, 0.3, 0.2, 0.6, 0.4, 0.3, 0.2, 0.2, 0.2, 0.2, 1.4, 1.5,\n",
      "       1.5, 1.3, 1.5, 1.3, 1.6, 1. , 1.3, 1.4, 1. , 1.5, 1. , 1.4, 1.3,\n",
      "       1.4, 1.5, 1. , 1.5, 1.1, 1.8, 1.3, 1.5, 1.2, 1.3, 1.4, 1.4, 1.7,\n",
      "       1.5, 1. , 1.1, 1. , 1.2, 1.6, 1.5, 1.6, 1.5, 1.3, 1.3, 1.3, 1.2,\n",
      "       1.4, 1.2, 1. , 1.3, 1.2, 1.3, 1.3, 1.1, 1.3, 2.5, 1.9, 2.1, 1.8,\n",
      "       2.2, 2.1, 1.7, 1.8, 1.8, 2.5, 2. , 1.9, 2.1, 2. , 2.4, 2.3, 1.8,\n",
      "       2.2, 2.3, 1.5, 2.3, 2. , 2. , 1.8, 2.1, 1.8, 1.8, 1.8, 2.1, 1.6,\n",
      "       1.9, 2. , 2.2, 1.5, 1.4, 2.3, 2.4, 1.8, 1.8, 2.1, 2.4, 2.3, 1.9,\n",
      "       2.3, 2.5, 2.3, 1.9, 2. , 2.3, 1.8])}\n"
     ]
    }
   ],
   "source": [
    "num_samples, num_features = np.shape(df)\n",
    "names = ['SepalL','SepalW','PetalL','PetalW']\n",
    "\n",
    "dataset_dict = {}\n",
    "for feature_index in range(num_features-1):\n",
    "    value = df.iloc[:, feature_index]\n",
    "    data = np.array([row for row in value])\n",
    "    for name in names:\n",
    "        dataset_dict[name] = data\n",
    "\n",
    "    print(dataset_dict)\n"
   ]
  },
  {
   "cell_type": "code",
   "execution_count": 171,
   "metadata": {},
   "outputs": [
    {
     "name": "stdout",
     "output_type": "stream",
     "text": [
      "{4.3: 0.9041777777777777, 4.4: 0.9110719435987823, 4.5: 0.9182190513938433, 4.6: 0.9224691358024691, 4.7: 0.9276454293628809, 4.8: 0.9317416590143863, 4.9: 0.9358357988165681, 5.0: 0.9391289437585734, 5.1: 0.9424791914387634, 5.2: 0.9441252513645504, 5.3: 0.9456944444444444, 5.4: 0.9471916151572158, 5.5: 0.94912, 5.6: 0.9515762484703688, 5.7: 0.9532189797282246, 5.8: 0.9547658372848846, 5.9: 0.9558511464209927, 6.0: 0.9568935164227151, 6.1: 0.9582368827160493, 6.2: 0.9366391184573003, 6.3: 0.9587633769322236, 6.4: 0.959279414524301, 6.5: 0.9461111111111111, 6.6: 0.9597852746540794, 6.7: 0.9606774469618485, 6.8: 0.9517779410933348, 6.9: 0.953700250412915, 7.0: 0.9543163201008191, 7.1: 0.9549195176233114, 7.2: 0.9563578655028764, 7.3: 0.9569172086654604, 7.4: 0.9574652777777778, 7.6: 0.9580023781212842, 7.7: 0.9595063285437593, 2.0: 0.900489800979602, 2.2: 0.9107915224913494, 2.3: 0.9173418209876544, 2.4: 0.9202647045212643, 2.5: 0.7257617728531857, 2.6: 0.7847222222222222, 2.7: 0.8117539026629936, 2.8: 0.8184698958804889, 2.9: 0.8457987072945522, 3.0: 0.8212226066897347, 3.1: 0.853628808864266, 3.2: 0.8722565157750344, 3.3: 0.8330366678533285, 3.4: 0.8948097757621567, 3.5: 0.8436363636363637, 3.6: 0.8488520408163265, 3.7: 0.8538011695906433, 3.8: 0.8585017835909631, 3.9: 0.8696586938994894, 4.0: 0.8829201101928374, 4.1: 0.8909892879647133, 4.2: 0.8996059298179772, 1.0: 0.7017543859649122, 1.1: 0.7283333333333333, 1.2: 0.7626035502958579, 1.3: 0.8073635765943459, 1.4: 0.8328826392644673, 1.5: 0.8563098708871304, 1.6: 0.8658208381391772, 1.7: 0.8705621301775148, 1.9: 0.8928351888532203, 0.1: 0.0, 0.2: 0.2906574394463668, 0.3: 0.48304580606781666, 0.4: 0.6015625, 0.5: 0.6172428154935443, 0.6: 0.6319999999999999, 1.8: 0.8852556480380499, 2.1: 0.9072304822205891}\n"
     ]
    }
   ],
   "source": [
    "num_samples, num_features = np.shape(df)\n",
    "\n",
    "left_dict = {}\n",
    "right_dict = {}\n",
    "info_gain = []\n",
    "gini_thresh_dict_parent = {}\n",
    "gini_thresh_dict_left = {}\n",
    "gini_thresh_dict_right = {}\n",
    "for feature_index in range(num_features-1):\n",
    "    value = df.iloc[:, feature_index]\n",
    "    # print(value)\n",
    "    # print(feature_index)\n",
    "    # gini_thresh_dict_parent = {}\n",
    "    # gini_thresh_dict_left = {}\n",
    "    # gini_thresh_dict_right = {}\n",
    "    \n",
    "    for threshold in np.unique(value):\n",
    "        # print(threshold)\n",
    "        # print(threshold)\n",
    "        dataset_left = np.array([row for row in value if row <= threshold])\n",
    "        dataset_right = np.array([row for row in value if row > threshold])\n",
    "        parent = np.concatenate((dataset_left,dataset_right), axis=0)\n",
    "        # print(threshold)\n",
    "        # print(f'This {len(dataset_left)} for LEFT')\n",
    "        # print(f'this {len(dataset_right)} for RIGHT')\n",
    "        # print(f'at this {threshold} threshold')\n",
    "\n",
    "        \n",
    "        if len(dataset_left) > 0 and len(dataset_right) > 0:\n",
    "            y, y_left, y_right = parent, dataset_left, dataset_right\n",
    "\n",
    "    # print(y_left)\n",
    "    # print(y_right)\n",
    "            # print(y)\n",
    "            # if threshold == 4.5:\n",
    "        # print(len(y_left))\n",
    "        # print(len(y_right))\n",
    "    #     gini_thresh_dict_parent[threshold] = gini_index(y)\n",
    "    # print(gini_thresh_dict_parent)\n",
    "            # info_gain.append(information_gain(y, y_left, y_right))\n",
    "# gini_thresh_dict_left[threshold] = gini_index(y_left)\n",
    "    # print(gini_thresh_dict_left.items())\n",
    "#         left_dict = {}\n",
    "#         right_dict = {}\n",
    "    # names = ['SepalL','SepalW','PetalL','PetalW']\n",
    "    # for name in names:\n",
    "            # gini_thresh_dict[names][threshold] = gini_index(y_left)\n",
    "        # left_dict[name] = gini_thresh_dict_left\n",
    "        # right_dict[name] = gini_thresh_dict_right\n",
    "#             # left_dict[name][threshold] = gini_index(y_left)\n",
    "# for key in left_dict.keys():\n",
    "#     print(key)\n",
    "            # for key in left_dict.keys():\n",
    "                # print(key)\n",
    "            gini_thresh_dict_left[threshold] = gini_index(y_left)\n",
    "            # gini_thresh_dict_right[threshold] = gini_index(y_right)\n",
    "    # print(gini_thresh_dict)\n",
    "print(gini_thresh_dict_left)\n",
    "\n",
    "    # for i in gini_thresh_dict.values():\n",
    "    #     print(i)\n",
    "\n",
    "\n",
    "    # if gini_thresh_dict.values() == min(gini_thresh_dict.values()):\n",
    "        # print(gini_thresh_dict.keys())\n",
    "\n",
    "    # print(gini_thresh_dict.keys()[min(gini_thresh_dict.values()))\n",
    "\n",
    "            # print(gini_index(y_left))\n",
    "            # print(y_left[gini_index(y_left) == 0])\n",
    "            # print(y_right[gini_index(y_right) != 0])\n",
    "                # print(y_left)\n",
    "\n",
    "        # print(threshold[threshold == 4.5])\n",
    "\n",
    "# gini_thresh_dict"
   ]
  },
  {
   "cell_type": "code",
   "execution_count": 183,
   "metadata": {},
   "outputs": [
    {
     "name": "stdout",
     "output_type": "stream",
     "text": [
      "6.7\n"
     ]
    }
   ],
   "source": [
    "for i in gini_thresh_dict_left.items():\n",
    "    if i[1] == max(gini_thresh_dict_left.values()):\n",
    "        print(i[0])\n",
    "# max(gini_thresh_dict_left.values())"
   ]
  },
  {
   "cell_type": "code",
   "execution_count": 81,
   "metadata": {},
   "outputs": [
    {
     "data": {
      "text/plain": [
       "0.13622032905116066"
      ]
     },
     "execution_count": 81,
     "metadata": {},
     "output_type": "execute_result"
    }
   ],
   "source": [
    "max(info_gain)"
   ]
  },
  {
   "cell_type": "code",
   "execution_count": 115,
   "metadata": {},
   "outputs": [
    {
     "data": {
      "text/html": [
       "<div>\n",
       "<style scoped>\n",
       "    .dataframe tbody tr th:only-of-type {\n",
       "        vertical-align: middle;\n",
       "    }\n",
       "\n",
       "    .dataframe tbody tr th {\n",
       "        vertical-align: top;\n",
       "    }\n",
       "\n",
       "    .dataframe thead th {\n",
       "        text-align: right;\n",
       "    }\n",
       "</style>\n",
       "<table border=\"1\" class=\"dataframe\">\n",
       "  <thead>\n",
       "    <tr style=\"text-align: right;\">\n",
       "      <th></th>\n",
       "      <th>SepalLengthCm</th>\n",
       "      <th>SepalWidthCm</th>\n",
       "      <th>PetalLengthCm</th>\n",
       "      <th>PetalWidthCm</th>\n",
       "    </tr>\n",
       "  </thead>\n",
       "  <tbody>\n",
       "    <tr>\n",
       "      <th>0</th>\n",
       "      <td>5.1</td>\n",
       "      <td>3.5</td>\n",
       "      <td>1.4</td>\n",
       "      <td>0.2</td>\n",
       "    </tr>\n",
       "    <tr>\n",
       "      <th>1</th>\n",
       "      <td>4.9</td>\n",
       "      <td>3.0</td>\n",
       "      <td>1.4</td>\n",
       "      <td>0.2</td>\n",
       "    </tr>\n",
       "    <tr>\n",
       "      <th>2</th>\n",
       "      <td>4.7</td>\n",
       "      <td>3.2</td>\n",
       "      <td>1.3</td>\n",
       "      <td>0.2</td>\n",
       "    </tr>\n",
       "    <tr>\n",
       "      <th>3</th>\n",
       "      <td>4.6</td>\n",
       "      <td>3.1</td>\n",
       "      <td>1.5</td>\n",
       "      <td>0.2</td>\n",
       "    </tr>\n",
       "    <tr>\n",
       "      <th>4</th>\n",
       "      <td>5.0</td>\n",
       "      <td>3.6</td>\n",
       "      <td>1.4</td>\n",
       "      <td>0.2</td>\n",
       "    </tr>\n",
       "    <tr>\n",
       "      <th>...</th>\n",
       "      <td>...</td>\n",
       "      <td>...</td>\n",
       "      <td>...</td>\n",
       "      <td>...</td>\n",
       "    </tr>\n",
       "    <tr>\n",
       "      <th>145</th>\n",
       "      <td>6.7</td>\n",
       "      <td>3.0</td>\n",
       "      <td>5.2</td>\n",
       "      <td>2.3</td>\n",
       "    </tr>\n",
       "    <tr>\n",
       "      <th>146</th>\n",
       "      <td>6.3</td>\n",
       "      <td>2.5</td>\n",
       "      <td>5.0</td>\n",
       "      <td>1.9</td>\n",
       "    </tr>\n",
       "    <tr>\n",
       "      <th>147</th>\n",
       "      <td>6.5</td>\n",
       "      <td>3.0</td>\n",
       "      <td>5.2</td>\n",
       "      <td>2.0</td>\n",
       "    </tr>\n",
       "    <tr>\n",
       "      <th>148</th>\n",
       "      <td>6.2</td>\n",
       "      <td>3.4</td>\n",
       "      <td>5.4</td>\n",
       "      <td>2.3</td>\n",
       "    </tr>\n",
       "    <tr>\n",
       "      <th>149</th>\n",
       "      <td>5.9</td>\n",
       "      <td>3.0</td>\n",
       "      <td>5.1</td>\n",
       "      <td>1.8</td>\n",
       "    </tr>\n",
       "  </tbody>\n",
       "</table>\n",
       "<p>150 rows × 4 columns</p>\n",
       "</div>"
      ],
      "text/plain": [
       "     SepalLengthCm  SepalWidthCm  PetalLengthCm  PetalWidthCm\n",
       "0              5.1           3.5            1.4           0.2\n",
       "1              4.9           3.0            1.4           0.2\n",
       "2              4.7           3.2            1.3           0.2\n",
       "3              4.6           3.1            1.5           0.2\n",
       "4              5.0           3.6            1.4           0.2\n",
       "..             ...           ...            ...           ...\n",
       "145            6.7           3.0            5.2           2.3\n",
       "146            6.3           2.5            5.0           1.9\n",
       "147            6.5           3.0            5.2           2.0\n",
       "148            6.2           3.4            5.4           2.3\n",
       "149            5.9           3.0            5.1           1.8\n",
       "\n",
       "[150 rows x 4 columns]"
      ]
     },
     "execution_count": 115,
     "metadata": {},
     "output_type": "execute_result"
    }
   ],
   "source": [
    "feature_index = df.iloc[:, 0:4]\n",
    "feature_index"
   ]
  },
  {
   "cell_type": "code",
   "execution_count": 116,
   "metadata": {},
   "outputs": [
    {
     "data": {
      "text/plain": [
       "[5.1,\n",
       " 4.9,\n",
       " 4.7,\n",
       " 4.6,\n",
       " 5.0,\n",
       " 5.4,\n",
       " 4.6,\n",
       " 5.0,\n",
       " 4.4,\n",
       " 4.9,\n",
       " 5.4,\n",
       " 4.8,\n",
       " 4.8,\n",
       " 4.3,\n",
       " 5.8,\n",
       " 5.7,\n",
       " 5.4,\n",
       " 5.1,\n",
       " 5.7,\n",
       " 5.1,\n",
       " 5.4,\n",
       " 5.1,\n",
       " 4.6,\n",
       " 5.1,\n",
       " 4.8,\n",
       " 5.0,\n",
       " 5.0,\n",
       " 5.2,\n",
       " 5.2,\n",
       " 4.7,\n",
       " 4.8,\n",
       " 5.4,\n",
       " 5.2,\n",
       " 5.5,\n",
       " 4.9,\n",
       " 5.0,\n",
       " 5.5,\n",
       " 4.9,\n",
       " 4.4,\n",
       " 5.1,\n",
       " 5.0,\n",
       " 4.5,\n",
       " 4.4,\n",
       " 5.0,\n",
       " 5.1,\n",
       " 4.8,\n",
       " 5.1,\n",
       " 4.6,\n",
       " 5.3,\n",
       " 5.0,\n",
       " 7.0,\n",
       " 6.4,\n",
       " 6.9,\n",
       " 5.5,\n",
       " 6.5,\n",
       " 5.7,\n",
       " 6.3,\n",
       " 4.9,\n",
       " 6.6,\n",
       " 5.2,\n",
       " 5.0,\n",
       " 5.9,\n",
       " 6.0,\n",
       " 6.1,\n",
       " 5.6,\n",
       " 6.7,\n",
       " 5.6,\n",
       " 5.8,\n",
       " 6.2,\n",
       " 5.6,\n",
       " 5.9,\n",
       " 6.1,\n",
       " 6.3,\n",
       " 6.1,\n",
       " 6.4,\n",
       " 6.6,\n",
       " 6.8,\n",
       " 6.7,\n",
       " 6.0,\n",
       " 5.7,\n",
       " 5.5,\n",
       " 5.5,\n",
       " 5.8,\n",
       " 6.0,\n",
       " 5.4,\n",
       " 6.0,\n",
       " 6.7,\n",
       " 6.3,\n",
       " 5.6,\n",
       " 5.5,\n",
       " 5.5,\n",
       " 6.1,\n",
       " 5.8,\n",
       " 5.0,\n",
       " 5.6,\n",
       " 5.7,\n",
       " 5.7,\n",
       " 6.2,\n",
       " 5.1,\n",
       " 5.7,\n",
       " 6.3,\n",
       " 5.8,\n",
       " 7.1,\n",
       " 6.3,\n",
       " 6.5,\n",
       " 7.6,\n",
       " 4.9,\n",
       " 7.3,\n",
       " 6.7,\n",
       " 7.2,\n",
       " 6.5,\n",
       " 6.4,\n",
       " 6.8,\n",
       " 5.7,\n",
       " 5.8,\n",
       " 6.4,\n",
       " 6.5,\n",
       " 7.7,\n",
       " 7.7,\n",
       " 6.0,\n",
       " 6.9,\n",
       " 5.6,\n",
       " 7.7,\n",
       " 6.3,\n",
       " 6.7,\n",
       " 7.2,\n",
       " 6.2,\n",
       " 6.1,\n",
       " 6.4,\n",
       " 7.2,\n",
       " 7.4,\n",
       " 7.9,\n",
       " 6.4,\n",
       " 6.3,\n",
       " 6.1,\n",
       " 7.7,\n",
       " 6.3,\n",
       " 6.4,\n",
       " 6.0,\n",
       " 6.9,\n",
       " 6.7,\n",
       " 6.9,\n",
       " 5.8,\n",
       " 6.8,\n",
       " 6.7,\n",
       " 6.7,\n",
       " 6.3,\n",
       " 6.5,\n",
       " 6.2,\n",
       " 5.9]"
      ]
     },
     "execution_count": 116,
     "metadata": {},
     "output_type": "execute_result"
    }
   ],
   "source": [
    "sepal_lenght_List = feature_index['SepalLengthCm'].tolist()\n",
    "sepal_lenght_List"
   ]
  },
  {
   "cell_type": "code",
   "execution_count": 140,
   "metadata": {},
   "outputs": [],
   "source": [
    "def find_max_infogain(dataset):\n",
    "    num_samples, num_features = np.shape(dataset)\n",
    "    info_gain = {}\n",
    "    for feature_index in range(num_features-1):\n",
    "        value = dataset.iloc[:, feature_index]\n",
    "        for threshold in np.unique(value):\n",
    "            dataset_left = np.array([row for row in value if row <= threshold])\n",
    "            dataset_right = np.array([row for row in value if row > threshold])\n",
    "            parent = np.concatenate((dataset_left,dataset_right), axis=0)\n",
    "            if len(dataset_left) > 0 and len(dataset_right) > 0:\n",
    "                y, y_left, y_right = parent, dataset_left, dataset_right\n",
    "                info_gain[threshold] = information_gain(y, y_left, y_right)\n",
    "                \n",
    "\n",
    "    return [key for key in info_gain if info_gain[key] == max(info_gain.values())]"
   ]
  },
  {
   "cell_type": "code",
   "execution_count": 141,
   "metadata": {},
   "outputs": [
    {
     "data": {
      "text/plain": [
       "[0.2]"
      ]
     },
     "execution_count": 141,
     "metadata": {},
     "output_type": "execute_result"
    }
   ],
   "source": [
    "find_max_infogain(df)"
   ]
  },
  {
   "cell_type": "code",
   "execution_count": 154,
   "metadata": {},
   "outputs": [],
   "source": [
    "def find_infogain(dataset):\n",
    "    num_samples, num_features = np.shape(dataset)\n",
    "    info_gain = {}\n",
    "    for feature_index in range(num_features-1):\n",
    "        value = dataset.iloc[:, feature_index]\n",
    "        for threshold in np.unique(value):\n",
    "            dataset_left = np.array([row for row in value if row <= threshold])\n",
    "            dataset_right = np.array([row for row in value if row > threshold])\n",
    "            parent = np.concatenate((dataset_left,dataset_right), axis=0)\n",
    "            if len(dataset_left) > 0 and len(dataset_right) > 0:\n",
    "                y, y_left, y_right = parent, dataset_left, dataset_right\n",
    "                info_gain[threshold] = information_gain(y, y_left, y_right)\n",
    "                \n",
    "\n",
    "    return info_gain"
   ]
  },
  {
   "cell_type": "code",
   "execution_count": 191,
   "metadata": {},
   "outputs": [
    {
     "data": {
      "text/plain": [
       "{4.3: 0.03884444444444446,\n",
       " 4.4: 0.03794405023672276,\n",
       " 4.5: 0.03557263273125355,\n",
       " 4.6: 0.035007407407407376,\n",
       " 4.7: 0.033767995746943114,\n",
       " 4.8: 0.033003446226975486,\n",
       " 4.9: 0.03172969156447425,\n",
       " 5.0: 0.03101446208112879,\n",
       " 5.1: 0.025246157313500106,\n",
       " 5.2: 0.025110357815442574,\n",
       " 5.3: 0.025044444444444425,\n",
       " 5.4: 0.025058756180067587,\n",
       " 5.5: 0.024622222222222212,\n",
       " 5.6: 0.018533351189679026,\n",
       " 5.7: 0.017113266998341592,\n",
       " 5.8: 0.015289936989206998,\n",
       " 5.9: 0.014794099266041805,\n",
       " 6.0: 0.014268242710795853,\n",
       " 6.1: 0.010137037037037167,\n",
       " 6.2: 0.03828877005347575,\n",
       " 6.3: 0.010350957854406095,\n",
       " 6.4: 0.010790258751902426,\n",
       " 6.5: 0.03066666666666662,\n",
       " 6.6: 0.01167709750566892,\n",
       " 6.7: 0.006882624906786039,\n",
       " 6.8: 0.02118826477959601,\n",
       " 6.9: 0.018184540520306824,\n",
       " 7.0: 0.018695652173913002,\n",
       " 7.1: 0.01935033791148899,\n",
       " 7.2: 0.01798122065727703,\n",
       " 7.3: 0.019167499167499158,\n",
       " 7.4: 0.02083333333333326,\n",
       " 7.6: 0.02326436781609187,\n",
       " 7.7: 0.006890380313199107,\n",
       " 2.0: 0.04408578492905779,\n",
       " 2.2: 0.04295219421101781,\n",
       " 2.3: 0.02237407407407399,\n",
       " 2.4: 0.02116281179138324,\n",
       " 2.5: 0.041095451095933266,\n",
       " 2.6: 0.042850793650793695,\n",
       " 2.7: 0.05189619269619261,\n",
       " 2.8: 0.06678061924763024,\n",
       " 2.9: 0.0708430862101489,\n",
       " 3.0: 0.04948195682313328,\n",
       " 3.1: 0.06830579479000531,\n",
       " 3.2: 0.05752451499118161,\n",
       " 3.3: 0.047984317793771325,\n",
       " 3.4: 0.03700423280423293,\n",
       " 3.5: 0.04662923976608191,\n",
       " 3.6: 0.0459529213103681,\n",
       " 3.7: 0.045313261648745495,\n",
       " 3.8: 0.04470877894386138,\n",
       " 3.9: 0.04329959681545603,\n",
       " 4.0: 0.04155959595959602,\n",
       " 4.1: 0.04051859008767211,\n",
       " 4.2: 0.03936465239478937,\n",
       " 1.0: 0.09105089605734773,\n",
       " 1.1: 0.0875407407407407,\n",
       " 1.2: 0.08307048768225234,\n",
       " 1.3: 0.0750450142450142,\n",
       " 1.4: 0.0705028423772609,\n",
       " 1.5: 0.06202797837083551,\n",
       " 1.6: 0.060930718954248286,\n",
       " 1.7: 0.06088175399479745,\n",
       " 1.9: 0.04693976758177387,\n",
       " 0.1: 0.04154074074074077,\n",
       " 0.2: 0.13622032905116066,\n",
       " 0.3: 0.11710590984808933,\n",
       " 0.4: 0.10372483660130705,\n",
       " 0.5: 0.10171960216429798,\n",
       " 0.6: 0.09982222222222226,\n",
       " 1.8: 0.048620599504169526,\n",
       " 2.1: 0.04096413582977043}"
      ]
     },
     "execution_count": 191,
     "metadata": {},
     "output_type": "execute_result"
    }
   ],
   "source": [
    "find_infogain(df)"
   ]
  },
  {
   "cell_type": "code",
   "execution_count": 159,
   "metadata": {},
   "outputs": [
    {
     "ename": "TypeError",
     "evalue": "'function' object is not subscriptable",
     "output_type": "error",
     "traceback": [
      "\u001b[0;31m---------------------------------------------------------------------------\u001b[0m",
      "\u001b[0;31mTypeError\u001b[0m                                 Traceback (most recent call last)",
      "\u001b[1;32m/Users/alisdghnia/Desktop/School - Graduate/Data Science Programming - Fall 2022/Decision-Tree-from-Scratch/Decision Tree Class.ipynb Cell 35\u001b[0m in \u001b[0;36m<cell line: 1>\u001b[0;34m()\u001b[0m\n\u001b[1;32m      <a href='vscode-notebook-cell:/Users/alisdghnia/Desktop/School%20-%20Graduate/Data%20Science%20Programming%20-%20Fall%202022/Decision-Tree-from-Scratch/Decision%20Tree%20Class.ipynb#Y104sZmlsZQ%3D%3D?line=0'>1</a>\u001b[0m \u001b[39mfor\u001b[39;00m key \u001b[39min\u001b[39;00m find_infogain(df):\n\u001b[0;32m----> <a href='vscode-notebook-cell:/Users/alisdghnia/Desktop/School%20-%20Graduate/Data%20Science%20Programming%20-%20Fall%202022/Decision-Tree-from-Scratch/Decision%20Tree%20Class.ipynb#Y104sZmlsZQ%3D%3D?line=1'>2</a>\u001b[0m     \u001b[39mif\u001b[39;00m find_infogain[key] \u001b[39m==\u001b[39m \u001b[39mmax\u001b[39m(find_infogain(df)\u001b[39m.\u001b[39mvalues()):\n\u001b[1;32m      <a href='vscode-notebook-cell:/Users/alisdghnia/Desktop/School%20-%20Graduate/Data%20Science%20Programming%20-%20Fall%202022/Decision-Tree-from-Scratch/Decision%20Tree%20Class.ipynb#Y104sZmlsZQ%3D%3D?line=2'>3</a>\u001b[0m         \u001b[39mprint\u001b[39m(key)\n",
      "\u001b[0;31mTypeError\u001b[0m: 'function' object is not subscriptable"
     ]
    }
   ],
   "source": [
    "for key in find_infogain(df):\n",
    "    if find_infogain[key] == max(find_infogain(df).values()):\n",
    "        print(key)"
   ]
  },
  {
   "cell_type": "code",
   "execution_count": 152,
   "metadata": {},
   "outputs": [],
   "source": [
    "def best_split(dataset):\n",
    "    num_samples, num_features = np.shape(dataset)\n",
    "    info_gain = {}\n",
    "    for feature_index in range(num_features-1):\n",
    "        value = dataset.iloc[:, feature_index]\n",
    "        for threshold in np.unique(value):\n",
    "            dataset_left = np.array([row for row in value if row <= threshold])\n",
    "            dataset_right = np.array([row for row in value if row > threshold])\n",
    "            parent = np.concatenate((dataset_left,dataset_right), axis=0)\n",
    "            if len(dataset_left) > 0 and len(dataset_right) > 0:\n",
    "                y, y_left, y_right = parent, dataset_left, dataset_right\n",
    "                info_gain[threshold] = information_gain(y, y_left, y_right)\n",
    "        for key in info_gain:\n",
    "            # if info_gain[key] == max(info_gain.values):\n",
    "            #     left_tree = best_split(y_left)\n",
    "            #     right_tree = best_split(y_right)\n",
    "\n",
    "    # return left_tree, right_tree"
   ]
  },
  {
   "cell_type": "code",
   "execution_count": 200,
   "metadata": {},
   "outputs": [],
   "source": [
    "def best_split(dataset):\n",
    "    num_samples, num_features = np.shape(dataset)\n",
    "    info_gain = {}\n",
    "    for feature_index in range(num_features-1):\n",
    "        value = dataset.iloc[:, feature_index]\n",
    "        for threshold in np.unique(value):\n",
    "            dataset_left = np.array([row for row in value if row <= threshold])\n",
    "            dataset_right = np.array([row for row in value if row > threshold])\n",
    "            parent = np.concatenate((dataset_left,dataset_right), axis=0)\n",
    "            if len(dataset_left) > 0 and len(dataset_right) > 0:\n",
    "                y, y_left, y_right = parent, dataset_left, dataset_right\n",
    "                info_gain[threshold] = information_gain(y, y_left, y_right)\n",
    "                threshold = [key for key in info_gain if info_gain[key] == max(info_gain.values())]\n",
    "    return threshold\n",
    "                    "
   ]
  },
  {
   "cell_type": "code",
   "execution_count": null,
   "metadata": {},
   "outputs": [],
   "source": []
  },
  {
   "cell_type": "code",
   "execution_count": 205,
   "metadata": {},
   "outputs": [],
   "source": [
    "def build_tree(dataset):    \n",
    "    for feature_index in range(num_features-1):\n",
    "        value = dataset.iloc[:, feature_index]\n",
    "        dataset_left = np.array([row for row in value if row <= best_split(dataset)])\n",
    "        dataset_right = np.array([row for row in value if row > best_split(dataset)])\n",
    "        parent = np.concatenate((dataset_left,dataset_right), axis=0)\n",
    "        if len(dataset_left) > 0 and len(dataset_right) > 0:\n",
    "            y, y_left, y_right = parent, dataset_left, dataset_right\n",
    "        else:\n",
    "            y_left = dataset_left\n",
    "    return y_left"
   ]
  },
  {
   "cell_type": "code",
   "execution_count": 206,
   "metadata": {},
   "outputs": [
    {
     "data": {
      "text/plain": [
       "array([0.2, 0.2, 0.2, 0.2, 0.2, 0.4, 0.3, 0.2, 0.2, 0.1, 0.2, 0.2, 0.1,\n",
       "       0.1, 0.2, 0.4, 0.4, 0.3, 0.3, 0.3, 0.2, 0.4, 0.2, 0.5, 0.2, 0.2,\n",
       "       0.4, 0.2, 0.2, 0.2, 0.2, 0.4, 0.1, 0.2, 0.1, 0.2, 0.2, 0.1, 0.2,\n",
       "       0.2, 0.3, 0.3, 0.2, 0.6, 0.4, 0.3, 0.2, 0.2, 0.2, 0.2, 1.4, 1.5,\n",
       "       1.5, 1.3, 1.5, 1.3, 1.6, 1. , 1.3, 1.4, 1. , 1.5, 1. , 1.4, 1.3,\n",
       "       1.4, 1.5, 1. , 1.5, 1.1, 1.8, 1.3, 1.5, 1.2, 1.3, 1.4, 1.4, 1.7,\n",
       "       1.5, 1. , 1.1, 1. , 1.2, 1.6, 1.5, 1.6, 1.5, 1.3, 1.3, 1.3, 1.2,\n",
       "       1.4, 1.2, 1. , 1.3, 1.2, 1.3, 1.3, 1.1, 1.3, 2.5, 1.9, 2.1, 1.8,\n",
       "       2.2, 2.1, 1.7, 1.8, 1.8, 2.5, 2. , 1.9, 2.1, 2. , 2.4, 2.3, 1.8,\n",
       "       2.2, 2.3, 1.5, 2.3, 2. , 2. , 1.8, 2.1, 1.8, 1.8, 1.8, 2.1, 1.6,\n",
       "       1.9, 2. , 2.2, 1.5, 1.4, 2.3, 2.4, 1.8, 1.8, 2.1, 2.4, 2.3, 1.9,\n",
       "       2.3, 2.5, 2.3, 1.9, 2. , 2.3, 1.8])"
      ]
     },
     "execution_count": 206,
     "metadata": {},
     "output_type": "execute_result"
    }
   ],
   "source": [
    "build_tree(df)"
   ]
  },
  {
   "cell_type": "code",
   "execution_count": 153,
   "metadata": {},
   "outputs": [
    {
     "ename": "TypeError",
     "evalue": "'builtin_function_or_method' object is not iterable",
     "output_type": "error",
     "traceback": [
      "\u001b[0;31m---------------------------------------------------------------------------\u001b[0m",
      "\u001b[0;31mTypeError\u001b[0m                                 Traceback (most recent call last)",
      "\u001b[1;32m/Users/alisdghnia/Desktop/School - Graduate/Data Science Programming - Fall 2022/Decision-Tree-from-Scratch/Decision Tree Class.ipynb Cell 35\u001b[0m in \u001b[0;36m<cell line: 1>\u001b[0;34m()\u001b[0m\n\u001b[0;32m----> <a href='vscode-notebook-cell:/Users/alisdghnia/Desktop/School%20-%20Graduate/Data%20Science%20Programming%20-%20Fall%202022/Decision-Tree-from-Scratch/Decision%20Tree%20Class.ipynb#Y101sZmlsZQ%3D%3D?line=0'>1</a>\u001b[0m best_split(df)\n",
      "\u001b[1;32m/Users/alisdghnia/Desktop/School - Graduate/Data Science Programming - Fall 2022/Decision-Tree-from-Scratch/Decision Tree Class.ipynb Cell 35\u001b[0m in \u001b[0;36mbest_split\u001b[0;34m(dataset)\u001b[0m\n\u001b[1;32m     <a href='vscode-notebook-cell:/Users/alisdghnia/Desktop/School%20-%20Graduate/Data%20Science%20Programming%20-%20Fall%202022/Decision-Tree-from-Scratch/Decision%20Tree%20Class.ipynb#Y101sZmlsZQ%3D%3D?line=11'>12</a>\u001b[0m         info_gain[threshold] \u001b[39m=\u001b[39m information_gain(y, y_left, y_right)\n\u001b[1;32m     <a href='vscode-notebook-cell:/Users/alisdghnia/Desktop/School%20-%20Graduate/Data%20Science%20Programming%20-%20Fall%202022/Decision-Tree-from-Scratch/Decision%20Tree%20Class.ipynb#Y101sZmlsZQ%3D%3D?line=12'>13</a>\u001b[0m \u001b[39mfor\u001b[39;00m key \u001b[39min\u001b[39;00m info_gain:\n\u001b[0;32m---> <a href='vscode-notebook-cell:/Users/alisdghnia/Desktop/School%20-%20Graduate/Data%20Science%20Programming%20-%20Fall%202022/Decision-Tree-from-Scratch/Decision%20Tree%20Class.ipynb#Y101sZmlsZQ%3D%3D?line=13'>14</a>\u001b[0m     \u001b[39mif\u001b[39;00m info_gain[key] \u001b[39m==\u001b[39m \u001b[39mmax\u001b[39;49m(info_gain\u001b[39m.\u001b[39;49mvalues):\n\u001b[1;32m     <a href='vscode-notebook-cell:/Users/alisdghnia/Desktop/School%20-%20Graduate/Data%20Science%20Programming%20-%20Fall%202022/Decision-Tree-from-Scratch/Decision%20Tree%20Class.ipynb#Y101sZmlsZQ%3D%3D?line=14'>15</a>\u001b[0m         \u001b[39mreturn\u001b[39;00m key\n",
      "\u001b[0;31mTypeError\u001b[0m: 'builtin_function_or_method' object is not iterable"
     ]
    }
   ],
   "source": [
    "best_split(df)"
   ]
  },
  {
   "cell_type": "code",
   "execution_count": 199,
   "metadata": {},
   "outputs": [
    {
     "name": "stdout",
     "output_type": "stream",
     "text": [
      "2.5\n"
     ]
    }
   ],
   "source": [
    "num_samples, num_features = np.shape(df)\n",
    "\n",
    "info_gain = {}\n",
    "for feature_index in range(num_features-1):\n",
    "    value = df.iloc[:, feature_index]\n",
    "    # value = [1,2,3,4]\n",
    "    \n",
    "    for threshold in np.unique(value):\n",
    "        \n",
    "        dataset_left = np.array([row for row in value if row <= threshold])\n",
    "        dataset_right = np.array([row for row in value if row > threshold])\n",
    "        parent = np.concatenate((dataset_left,dataset_right), axis=0)\n",
    "        if len(dataset_left) > 0 and len(dataset_right) > 0:\n",
    "            y, y_left, y_right = parent, dataset_left, dataset_right\n",
    "            info_gain[threshold] = information_gain(y, y_left, y_right)\n",
    "            threshold = [key for key in info_gain if info_gain[key] == max(info_gain.values())]\n",
    "            \n",
    "print(threshold)"
   ]
  },
  {
   "cell_type": "code",
   "execution_count": null,
   "metadata": {},
   "outputs": [],
   "source": [
    "\n",
    "for feature_index in range(num_features-1):\n",
    "    value = dataset.iloc[:, feature_index]\n",
    "    threshold = find_max_infogain(dataset)\n",
    "    dataset_left = np.array([row for row in value if row <= threshold])\n",
    "    dataset_right = np.array([row for row in value if row > threshold])\n",
    "    parent = np.concatenate((dataset_left,dataset_right), axis=0)\n",
    "    if len(dataset_left) > 0 and len(dataset_right) > 0:\n",
    "        y, y_left, y_right = parent, dataset_left, dataset_right"
   ]
  },
  {
   "cell_type": "code",
   "execution_count": 139,
   "metadata": {},
   "outputs": [
    {
     "data": {
      "text/plain": [
       "([2.5], dict_values([0.006890380313199107]))"
      ]
     },
     "execution_count": 139,
     "metadata": {},
     "output_type": "execute_result"
    }
   ],
   "source": [
    "find_max_infogain(df)"
   ]
  },
  {
   "cell_type": "code",
   "execution_count": 433,
   "metadata": {},
   "outputs": [
    {
     "name": "stdout",
     "output_type": "stream",
     "text": [
      "dict_values([0.0, 0.5])\n"
     ]
    }
   ],
   "source": [
    "print(gini_thresh_dict.values())"
   ]
  },
  {
   "cell_type": "code",
   "execution_count": 120,
   "metadata": {},
   "outputs": [],
   "source": [
    "class Fruit:\n",
    "    def __init__(self) -> None:\n",
    "        self.name = ''\n",
    "\n",
    "    def set_name(self, a_name):\n",
    "        self.name = a_name\n",
    "\n",
    "    def get_name(self):\n",
    "        return self.name"
   ]
  },
  {
   "cell_type": "code",
   "execution_count": 121,
   "metadata": {},
   "outputs": [],
   "source": [
    "apple = Fruit()\n",
    "apple.set_name(\"Green Apple\")\n",
    "mango = Fruit()\n",
    "mango.set_name(\"Rotten Apple\")"
   ]
  },
  {
   "cell_type": "code",
   "execution_count": 122,
   "metadata": {},
   "outputs": [
    {
     "data": {
      "text/plain": [
       "'Green Apple'"
      ]
     },
     "execution_count": 122,
     "metadata": {},
     "output_type": "execute_result"
    }
   ],
   "source": [
    "apple.get_name()"
   ]
  },
  {
   "cell_type": "code",
   "execution_count": 123,
   "metadata": {},
   "outputs": [
    {
     "data": {
      "text/plain": [
       "'Rotten Apple'"
      ]
     },
     "execution_count": 123,
     "metadata": {},
     "output_type": "execute_result"
    }
   ],
   "source": [
    "mango.get_name()"
   ]
  },
  {
   "cell_type": "code",
   "execution_count": 128,
   "metadata": {},
   "outputs": [],
   "source": [
    "class animals:\n",
    "    def __init__(self) -> None:\n",
    "        self.animal_type = None\n",
    "        self.animal_color = None\n",
    "    def set_animal_type(self, animal_type):\n",
    "        self.animal_type = animal_type\n",
    "    def set_color(self, color):\n",
    "        self.animal_color = color\n",
    "\n",
    "    def get_name(self):\n",
    "        return \"I am a {} of {} color\".format(self.animal_type, self.animal_color)\n"
   ]
  },
  {
   "cell_type": "code",
   "execution_count": 129,
   "metadata": {},
   "outputs": [],
   "source": [
    "tiger = animals()\n",
    "tiger.set_animal_type('not a pet')\n",
    "tiger.set_color('brown')"
   ]
  },
  {
   "cell_type": "code",
   "execution_count": 130,
   "metadata": {},
   "outputs": [],
   "source": [
    "lion = animals()\n",
    "lion.set_animal_type('A pet')\n",
    "lion.set_color('White')"
   ]
  },
  {
   "cell_type": "code",
   "execution_count": 132,
   "metadata": {},
   "outputs": [
    {
     "data": {
      "text/plain": [
       "'I am a A pet of White color'"
      ]
     },
     "execution_count": 132,
     "metadata": {},
     "output_type": "execute_result"
    }
   ],
   "source": [
    "lion.get_name()"
   ]
  },
  {
   "cell_type": "code",
   "execution_count": null,
   "metadata": {},
   "outputs": [],
   "source": []
  }
 ],
 "metadata": {
  "kernelspec": {
   "display_name": "pythonProject",
   "language": "python",
   "name": "python3"
  },
  "language_info": {
   "codemirror_mode": {
    "name": "ipython",
    "version": 3
   },
   "file_extension": ".py",
   "mimetype": "text/x-python",
   "name": "python",
   "nbconvert_exporter": "python",
   "pygments_lexer": "ipython3",
   "version": "3.10.4"
  },
  "orig_nbformat": 4,
  "vscode": {
   "interpreter": {
    "hash": "c95b79b9472547e76e051c9794a40cce8ab2c20236968cfbaf2178f8cda33adf"
   }
  }
 },
 "nbformat": 4,
 "nbformat_minor": 2
}
