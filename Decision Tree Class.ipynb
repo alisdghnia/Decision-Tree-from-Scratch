{
 "cells": [
  {
   "cell_type": "code",
   "execution_count": 1,
   "metadata": {},
   "outputs": [],
   "source": [
    "import pandas as pd\n",
    "import numpy as np"
   ]
  },
  {
   "cell_type": "code",
   "execution_count": 2,
   "metadata": {},
   "outputs": [],
   "source": [
    "df = pd.read_csv('Iris copy.csv')\n",
    "df.drop(columns = ['Id'], inplace= True)"
   ]
  },
  {
   "cell_type": "code",
   "execution_count": 3,
   "metadata": {},
   "outputs": [],
   "source": [
    "type = []\n",
    "for i in df.Species:\n",
    "    if i == 'Iris-setosa':\n",
    "        i = 0\n",
    "    elif i == 'Iris-versicolor':\n",
    "        i = 1\n",
    "    else:\n",
    "        i = 2\n",
    "\n",
    "    type.append(i)"
   ]
  },
  {
   "cell_type": "code",
   "execution_count": 4,
   "metadata": {},
   "outputs": [],
   "source": [
    "df['type'] = type"
   ]
  },
  {
   "cell_type": "code",
   "execution_count": 5,
   "metadata": {},
   "outputs": [],
   "source": [
    "df.drop(columns= ['Species'], inplace= True)"
   ]
  },
  {
   "cell_type": "code",
   "execution_count": 6,
   "metadata": {},
   "outputs": [
    {
     "data": {
      "text/html": [
       "<div>\n",
       "<style scoped>\n",
       "    .dataframe tbody tr th:only-of-type {\n",
       "        vertical-align: middle;\n",
       "    }\n",
       "\n",
       "    .dataframe tbody tr th {\n",
       "        vertical-align: top;\n",
       "    }\n",
       "\n",
       "    .dataframe thead th {\n",
       "        text-align: right;\n",
       "    }\n",
       "</style>\n",
       "<table border=\"1\" class=\"dataframe\">\n",
       "  <thead>\n",
       "    <tr style=\"text-align: right;\">\n",
       "      <th></th>\n",
       "      <th>SepalLengthCm</th>\n",
       "      <th>SepalWidthCm</th>\n",
       "      <th>PetalLengthCm</th>\n",
       "      <th>PetalWidthCm</th>\n",
       "      <th>type</th>\n",
       "    </tr>\n",
       "  </thead>\n",
       "  <tbody>\n",
       "    <tr>\n",
       "      <th>0</th>\n",
       "      <td>5.1</td>\n",
       "      <td>3.5</td>\n",
       "      <td>1.4</td>\n",
       "      <td>0.2</td>\n",
       "      <td>0</td>\n",
       "    </tr>\n",
       "    <tr>\n",
       "      <th>1</th>\n",
       "      <td>4.9</td>\n",
       "      <td>3.0</td>\n",
       "      <td>1.4</td>\n",
       "      <td>0.2</td>\n",
       "      <td>0</td>\n",
       "    </tr>\n",
       "    <tr>\n",
       "      <th>2</th>\n",
       "      <td>4.7</td>\n",
       "      <td>3.2</td>\n",
       "      <td>1.3</td>\n",
       "      <td>0.2</td>\n",
       "      <td>0</td>\n",
       "    </tr>\n",
       "    <tr>\n",
       "      <th>3</th>\n",
       "      <td>4.6</td>\n",
       "      <td>3.1</td>\n",
       "      <td>1.5</td>\n",
       "      <td>0.2</td>\n",
       "      <td>0</td>\n",
       "    </tr>\n",
       "    <tr>\n",
       "      <th>4</th>\n",
       "      <td>5.0</td>\n",
       "      <td>3.6</td>\n",
       "      <td>1.4</td>\n",
       "      <td>0.2</td>\n",
       "      <td>0</td>\n",
       "    </tr>\n",
       "    <tr>\n",
       "      <th>...</th>\n",
       "      <td>...</td>\n",
       "      <td>...</td>\n",
       "      <td>...</td>\n",
       "      <td>...</td>\n",
       "      <td>...</td>\n",
       "    </tr>\n",
       "    <tr>\n",
       "      <th>145</th>\n",
       "      <td>6.7</td>\n",
       "      <td>3.0</td>\n",
       "      <td>5.2</td>\n",
       "      <td>2.3</td>\n",
       "      <td>2</td>\n",
       "    </tr>\n",
       "    <tr>\n",
       "      <th>146</th>\n",
       "      <td>6.3</td>\n",
       "      <td>2.5</td>\n",
       "      <td>5.0</td>\n",
       "      <td>1.9</td>\n",
       "      <td>2</td>\n",
       "    </tr>\n",
       "    <tr>\n",
       "      <th>147</th>\n",
       "      <td>6.5</td>\n",
       "      <td>3.0</td>\n",
       "      <td>5.2</td>\n",
       "      <td>2.0</td>\n",
       "      <td>2</td>\n",
       "    </tr>\n",
       "    <tr>\n",
       "      <th>148</th>\n",
       "      <td>6.2</td>\n",
       "      <td>3.4</td>\n",
       "      <td>5.4</td>\n",
       "      <td>2.3</td>\n",
       "      <td>2</td>\n",
       "    </tr>\n",
       "    <tr>\n",
       "      <th>149</th>\n",
       "      <td>5.9</td>\n",
       "      <td>3.0</td>\n",
       "      <td>5.1</td>\n",
       "      <td>1.8</td>\n",
       "      <td>2</td>\n",
       "    </tr>\n",
       "  </tbody>\n",
       "</table>\n",
       "<p>150 rows × 5 columns</p>\n",
       "</div>"
      ],
      "text/plain": [
       "     SepalLengthCm  SepalWidthCm  PetalLengthCm  PetalWidthCm  type\n",
       "0              5.1           3.5            1.4           0.2     0\n",
       "1              4.9           3.0            1.4           0.2     0\n",
       "2              4.7           3.2            1.3           0.2     0\n",
       "3              4.6           3.1            1.5           0.2     0\n",
       "4              5.0           3.6            1.4           0.2     0\n",
       "..             ...           ...            ...           ...   ...\n",
       "145            6.7           3.0            5.2           2.3     2\n",
       "146            6.3           2.5            5.0           1.9     2\n",
       "147            6.5           3.0            5.2           2.0     2\n",
       "148            6.2           3.4            5.4           2.3     2\n",
       "149            5.9           3.0            5.1           1.8     2\n",
       "\n",
       "[150 rows x 5 columns]"
      ]
     },
     "execution_count": 6,
     "metadata": {},
     "output_type": "execute_result"
    }
   ],
   "source": [
    "df"
   ]
  },
  {
   "cell_type": "code",
   "execution_count": 364,
   "metadata": {},
   "outputs": [],
   "source": [
    "# for i in df.iloc[:, 0:4]:\n",
    "#     print(i)\n",
    "sum_list = []\n",
    "for i in range(150):\n",
    "    sum_all = np.sum(df.iloc[i, 0:4])\n",
    "    sum_list.append(sum_all)"
   ]
  },
  {
   "cell_type": "code",
   "execution_count": 365,
   "metadata": {},
   "outputs": [],
   "source": [
    "df['sum'] = sum_list"
   ]
  },
  {
   "cell_type": "code",
   "execution_count": 366,
   "metadata": {},
   "outputs": [
    {
     "data": {
      "text/html": [
       "<div>\n",
       "<style scoped>\n",
       "    .dataframe tbody tr th:only-of-type {\n",
       "        vertical-align: middle;\n",
       "    }\n",
       "\n",
       "    .dataframe tbody tr th {\n",
       "        vertical-align: top;\n",
       "    }\n",
       "\n",
       "    .dataframe thead th {\n",
       "        text-align: right;\n",
       "    }\n",
       "</style>\n",
       "<table border=\"1\" class=\"dataframe\">\n",
       "  <thead>\n",
       "    <tr style=\"text-align: right;\">\n",
       "      <th></th>\n",
       "      <th>SepalLengthCm</th>\n",
       "      <th>SepalWidthCm</th>\n",
       "      <th>PetalLengthCm</th>\n",
       "      <th>PetalWidthCm</th>\n",
       "      <th>type</th>\n",
       "      <th>sum</th>\n",
       "    </tr>\n",
       "  </thead>\n",
       "  <tbody>\n",
       "    <tr>\n",
       "      <th>0</th>\n",
       "      <td>5.1</td>\n",
       "      <td>3.5</td>\n",
       "      <td>1.4</td>\n",
       "      <td>0.2</td>\n",
       "      <td>0</td>\n",
       "      <td>10.2</td>\n",
       "    </tr>\n",
       "    <tr>\n",
       "      <th>1</th>\n",
       "      <td>4.9</td>\n",
       "      <td>3.0</td>\n",
       "      <td>1.4</td>\n",
       "      <td>0.2</td>\n",
       "      <td>0</td>\n",
       "      <td>9.5</td>\n",
       "    </tr>\n",
       "    <tr>\n",
       "      <th>2</th>\n",
       "      <td>4.7</td>\n",
       "      <td>3.2</td>\n",
       "      <td>1.3</td>\n",
       "      <td>0.2</td>\n",
       "      <td>0</td>\n",
       "      <td>9.4</td>\n",
       "    </tr>\n",
       "    <tr>\n",
       "      <th>3</th>\n",
       "      <td>4.6</td>\n",
       "      <td>3.1</td>\n",
       "      <td>1.5</td>\n",
       "      <td>0.2</td>\n",
       "      <td>0</td>\n",
       "      <td>9.4</td>\n",
       "    </tr>\n",
       "    <tr>\n",
       "      <th>4</th>\n",
       "      <td>5.0</td>\n",
       "      <td>3.6</td>\n",
       "      <td>1.4</td>\n",
       "      <td>0.2</td>\n",
       "      <td>0</td>\n",
       "      <td>10.2</td>\n",
       "    </tr>\n",
       "    <tr>\n",
       "      <th>...</th>\n",
       "      <td>...</td>\n",
       "      <td>...</td>\n",
       "      <td>...</td>\n",
       "      <td>...</td>\n",
       "      <td>...</td>\n",
       "      <td>...</td>\n",
       "    </tr>\n",
       "    <tr>\n",
       "      <th>145</th>\n",
       "      <td>6.7</td>\n",
       "      <td>3.0</td>\n",
       "      <td>5.2</td>\n",
       "      <td>2.3</td>\n",
       "      <td>2</td>\n",
       "      <td>17.2</td>\n",
       "    </tr>\n",
       "    <tr>\n",
       "      <th>146</th>\n",
       "      <td>6.3</td>\n",
       "      <td>2.5</td>\n",
       "      <td>5.0</td>\n",
       "      <td>1.9</td>\n",
       "      <td>2</td>\n",
       "      <td>15.7</td>\n",
       "    </tr>\n",
       "    <tr>\n",
       "      <th>147</th>\n",
       "      <td>6.5</td>\n",
       "      <td>3.0</td>\n",
       "      <td>5.2</td>\n",
       "      <td>2.0</td>\n",
       "      <td>2</td>\n",
       "      <td>16.7</td>\n",
       "    </tr>\n",
       "    <tr>\n",
       "      <th>148</th>\n",
       "      <td>6.2</td>\n",
       "      <td>3.4</td>\n",
       "      <td>5.4</td>\n",
       "      <td>2.3</td>\n",
       "      <td>2</td>\n",
       "      <td>17.3</td>\n",
       "    </tr>\n",
       "    <tr>\n",
       "      <th>149</th>\n",
       "      <td>5.9</td>\n",
       "      <td>3.0</td>\n",
       "      <td>5.1</td>\n",
       "      <td>1.8</td>\n",
       "      <td>2</td>\n",
       "      <td>15.8</td>\n",
       "    </tr>\n",
       "  </tbody>\n",
       "</table>\n",
       "<p>150 rows × 6 columns</p>\n",
       "</div>"
      ],
      "text/plain": [
       "     SepalLengthCm  SepalWidthCm  PetalLengthCm  PetalWidthCm  type   sum\n",
       "0              5.1           3.5            1.4           0.2     0  10.2\n",
       "1              4.9           3.0            1.4           0.2     0   9.5\n",
       "2              4.7           3.2            1.3           0.2     0   9.4\n",
       "3              4.6           3.1            1.5           0.2     0   9.4\n",
       "4              5.0           3.6            1.4           0.2     0  10.2\n",
       "..             ...           ...            ...           ...   ...   ...\n",
       "145            6.7           3.0            5.2           2.3     2  17.2\n",
       "146            6.3           2.5            5.0           1.9     2  15.7\n",
       "147            6.5           3.0            5.2           2.0     2  16.7\n",
       "148            6.2           3.4            5.4           2.3     2  17.3\n",
       "149            5.9           3.0            5.1           1.8     2  15.8\n",
       "\n",
       "[150 rows x 6 columns]"
      ]
     },
     "execution_count": 366,
     "metadata": {},
     "output_type": "execute_result"
    }
   ],
   "source": [
    "df"
   ]
  },
  {
   "cell_type": "code",
   "execution_count": 42,
   "metadata": {},
   "outputs": [
    {
     "data": {
      "text/plain": [
       "17.120408163265306"
      ]
     },
     "execution_count": 42,
     "metadata": {},
     "output_type": "execute_result"
    }
   ],
   "source": [
    "np.mean(df.iloc[101:151, 5])"
   ]
  },
  {
   "cell_type": "code",
   "execution_count": 7,
   "metadata": {},
   "outputs": [
    {
     "data": {
      "text/plain": [
       "(150, 5)"
      ]
     },
     "execution_count": 7,
     "metadata": {},
     "output_type": "execute_result"
    }
   ],
   "source": [
    "np.shape(df.iloc[:, 0:5])"
   ]
  },
  {
   "cell_type": "code",
   "execution_count": null,
   "metadata": {},
   "outputs": [],
   "source": [
    "def first_split(dataset):\n",
    "    num_samples, num_features = np.shape(dataset)\n",
    "    first_split_dict = {}\n",
    "    for feature_index in range(num_features-1):\n",
    "        value = dataset.iloc[:, feature_index]\n",
    "        for threshold in np.unique(value):\n",
    "            dataset_left = np.array([row for row in value if row <= threshold])\n",
    "            dataset_right = np.array([row for row in value if row > threshold])\n",
    "            parent = np.concatenate((dataset_left,dataset_right), axis=0)\n",
    "            if len(dataset_left) > 0 and len(dataset_right) > 0:\n",
    "                y, y_left, y_right = parent, dataset_left, dataset_right\n",
    "                # info_gain[threshold] = information_gain(y, y_left, y_right)\n",
    "                first_split_dict[threshold] = (y, y_left, y_right)\n",
    "    return first_split_dict\n",
    "\n",
    "\n",
    "def split(dataset):\n",
    "    split_dict = {}\n",
    "    for threshold in np.unique(dataset):\n",
    "        dataset_left = np.array([row for row in value if row <= threshold])\n",
    "        dataset_right = np.array([row for row in value if row > threshold])\n",
    "        parent = np.concatenate((dataset_left,dataset_right), axis=0)\n",
    "        if len(dataset_left) > 0 and len(dataset_right) > 0:\n",
    "            y, y_left, y_right = parent, dataset_left, dataset_right\n",
    "            # info_gain[threshold] = information_gain(y, y_left, y_right)\n",
    "            split_dict[threshold] = (y, y_left, y_right)\n",
    "    return split_dict\n",
    "\n",
    "\n",
    "def best_threshold(dictionary):\n",
    "    info = {}\n",
    "    for i in dictionary.keys():\n",
    "        for j in range(3):\n",
    "            each_info = information_gain(dictionary[i][0], dictionary[i][1], dictionary[i][2])\n",
    "            info[i] = each_info\n",
    "    max_key = max(info, key=info.get)\n",
    "\n",
    "    return max_key\n",
    "\n",
    "\n",
    "def best_split(dataset, threshold):\n",
    "    num_samples, num_features = np.shape(dataset)\n",
    "\n",
    "    for feature_index in range(num_features-1):\n",
    "        value = dataset.iloc[:, feature_index]\n",
    "\n",
    "        dataset_left = np.array([row for row in value if row <= threshold])\n",
    "        dataset_right = np.array([row for row in value if row > threshold])\n",
    "\n",
    "    return dataset_left, dataset_right"
   ]
  },
  {
   "cell_type": "code",
   "execution_count": null,
   "metadata": {},
   "outputs": [],
   "source": [
    "class Node():\n",
    "    def __init__(self, feature_index, threshold, left_node, right_node, information_gain, value):\n",
    "        self.feature_index = feature_index\n",
    "        self.threshold = threshold\n",
    "        self.left_node = left_node\n",
    "        self.right_node = right_node\n",
    "        self.information_gain = information_gain\n",
    "        self.value = value\n",
    "\n",
    "\n",
    "class DecisionTreeClassifier():\n",
    "    def __init__(self, min_sample_split, max_depth):\n",
    "        self.root = None\n",
    "\n",
    "        self.min_sample_split = min_sample_split\n",
    "        self.max_depth = max_depth\n",
    "\n",
    "\n",
    "    def gini(self, thing):\n",
    "        labels = np.unique(thing)\n",
    "        gini = 0\n",
    "        for i in labels:\n",
    "            p = len(thing[thing == i]) / len(thing)\n",
    "            gini += 1 - p**2\n",
    "\n",
    "        return gini\n",
    "\n",
    "    def information_gain(self, parent, left_child, right_child):\n",
    "        l_weight = len(left_child) / len(parent)\n",
    "        r_weight = len(right_child) / len(parent)\n",
    "        information_gain = gini(parent) - (l_weight * gini(left_child) + r_weight * gini(right_child))\n",
    "        return information_gain\n",
    "\n",
    "\n",
    "    def split(self, dataset, threshold, feature_index):\n",
    "        for i in dataset\n",
    "\n",
    "    def best_split():\n",
    "\n",
    "\n",
    "\n",
    "\n",
    "\n",
    "    def build_tree(self, X, y, current_depth = 0):\n",
    "        num_samples = np.shape(X)\n",
    "        num_features = np.shape(X)\n",
    "        \n",
    "\n",
    "\n",
    "    def print_tree():\n",
    "\n",
    "\n",
    "    def fit():\n",
    "\n",
    "\n",
    "    def predict():"
   ]
  },
  {
   "cell_type": "code",
   "execution_count": null,
   "metadata": {},
   "outputs": [],
   "source": [
    "def gini_index(groups, classes):\n",
    "\t# count all samples at split point\n",
    "\tn_instances = float(sum([len(group) for group in groups]))\n",
    "\t# sum weighted Gini index for each group\n",
    "\tgini = 0.0\n",
    "\tfor group in groups:\n",
    "\t\tsize = float(len(group))\n",
    "\t\t# avoid divide by zero\n",
    "\t\tif size == 0:\n",
    "\t\t\tcontinue\n",
    "\t\tscore = 0.0\n",
    "\t\t# score the group based on the score for each class\n",
    "\t\tfor class_val in classes:\n",
    "\t\t\tp = [row[-1] for row in group].count(class_val) / size\n",
    "\t\t\tscore += p * p\n",
    "\t\t# weight the group score by its relative size\n",
    "\t\tgini += (1.0 - score) * (size / n_instances)\n",
    "\treturn gini"
   ]
  },
  {
   "cell_type": "code",
   "execution_count": 97,
   "metadata": {},
   "outputs": [],
   "source": [
    "# Gini Index with Help\n",
    "\n",
    "def gini_index(self, target):\n",
    "    feature_labels = np.unique(target)\n",
    "    g = 0\n",
    "    for i in feature_labels:\n",
    "        probability = len(target[target == i]) / len(target)\n",
    "        g += probability**2\n",
    "    return 1 - g"
   ]
  },
  {
   "cell_type": "code",
   "execution_count": null,
   "metadata": {},
   "outputs": [],
   "source": [
    "# First split with help\n",
    "\n",
    "def first_split(self, dataset, threshold):\n",
    "    for value in dataset:\n",
    "        if value[feature_index] <= threshold:\n",
    "            left_data = value\n",
    "        else:\n",
    "            right_data = value\n",
    "    return left_data, right_data"
   ]
  },
  {
   "cell_type": "code",
   "execution_count": 44,
   "metadata": {},
   "outputs": [],
   "source": [
    "y = df.type"
   ]
  },
  {
   "cell_type": "code",
   "execution_count": 67,
   "metadata": {},
   "outputs": [
    {
     "name": "stdout",
     "output_type": "stream",
     "text": [
      "0.3333333333333333\n",
      "0.3333333333333333\n",
      "0.3333333333333333\n",
      "0.6666666666666667\n"
     ]
    }
   ],
   "source": [
    "g = 0\n",
    "features = np.unique(y)\n",
    "for i in features:\n",
    "    p = len(y[y == i])/len(y)\n",
    "    print(p)\n",
    "    g += p**2\n",
    "\n",
    "print(1 - g)"
   ]
  },
  {
   "cell_type": "code",
   "execution_count": 9,
   "metadata": {},
   "outputs": [],
   "source": [
    "def gini_index(target):\n",
    "    feature_labels = np.unique(target)\n",
    "    g = 0\n",
    "    for i in feature_labels:\n",
    "        probability = len(target[target == i]) / len(target)\n",
    "        g += probability**2\n",
    "    return 1 - g\n",
    "\n",
    "def information_gain(parent, left_child, right_child):\n",
    "    wl = len(left_child) / len(parent)\n",
    "    wr = len(right_child) / len(parent)\n",
    "    info_gain = gini_index(parent) - (wl * gini_index(left_child) + wr * gini_index(right_child))\n",
    "    return info_gain"
   ]
  },
  {
   "cell_type": "code",
   "execution_count": 88,
   "metadata": {},
   "outputs": [],
   "source": [
    "def first_split(dataset):\n",
    "    num_samples, num_features = np.shape(dataset)\n",
    "    first_split_dict = {}\n",
    "    for feature_index in range(num_features-1):\n",
    "        value = dataset.iloc[:, feature_index]\n",
    "        for threshold in np.unique(value):\n",
    "            dataset_left = np.array([row for row in value if row <= threshold])\n",
    "            dataset_right = np.array([row for row in value if row > threshold])\n",
    "            parent = np.concatenate((dataset_left,dataset_right), axis=0)\n",
    "            if len(dataset_left) > 0 and len(dataset_right) > 0:\n",
    "                y, y_left, y_right = parent, dataset_left, dataset_right\n",
    "                # info_gain[threshold] = information_gain(y, y_left, y_right)\n",
    "                first_split_dict[threshold] = (y, y_left, y_right)\n",
    "    return first_split_dict\n",
    "\n",
    "\n",
    "def split(dataset):\n",
    "    split_dict = {}\n",
    "    for threshold in np.unique(dataset):\n",
    "        dataset_left = np.array([row for row in value if row <= threshold])\n",
    "        dataset_right = np.array([row for row in value if row > threshold])\n",
    "        parent = np.concatenate((dataset_left,dataset_right), axis=0)\n",
    "        if len(dataset_left) > 0 and len(dataset_right) > 0:\n",
    "            y, y_left, y_right = parent, dataset_left, dataset_right\n",
    "            # info_gain[threshold] = information_gain(y, y_left, y_right)\n",
    "            split_dict[threshold] = (y, y_left, y_right)\n",
    "    return split_dict\n",
    "\n",
    "\n",
    "def best_threshold(dictionary):\n",
    "    info = {}\n",
    "    for i in dictionary.keys():\n",
    "        for j in range(3):\n",
    "            each_info = information_gain(dictionary[i][0], dictionary[i][1], dictionary[i][2])\n",
    "            info[i] = each_info\n",
    "    max_key = max(info, key=info.get)\n",
    "\n",
    "    return max_key\n",
    "\n",
    "\n",
    "def best_split(dataset, threshold):\n",
    "    num_samples, num_features = np.shape(dataset)\n",
    "    best_split_dict = {}\n",
    "    for feature_index in range(num_features-1):\n",
    "        value = dataset.iloc[:, feature_index]\n",
    "\n",
    "        dataset_left = np.array([row for row in value if row <= threshold])\n",
    "        dataset_right = np.array([row for row in value if row > threshold])\n",
    "        best_split_dict[feature_index] = (dataset_left, dataset_right)\n",
    "    return best_split_dict"
   ]
  },
  {
   "cell_type": "code",
   "execution_count": 375,
   "metadata": {},
   "outputs": [],
   "source": [
    "def First_Tree(dataset):\n",
    "    split_1 = first_split(dataset)\n",
    "    thresh_1 = best_threshold(split_1)\n",
    "    best_split_1 = best_split(dataset, thresh_1)\n",
    "    \n",
    "    return best_split_1"
   ]
  },
  {
   "cell_type": "code",
   "execution_count": 171,
   "metadata": {},
   "outputs": [
    {
     "data": {
      "text/plain": [
       "(array([0.2, 0.2, 0.2, 0.2, 0.2, 0.2, 0.2, 0.1, 0.2, 0.2, 0.1, 0.1, 0.2,\n",
       "        0.2, 0.2, 0.2, 0.2, 0.2, 0.2, 0.2, 0.2, 0.1, 0.2, 0.1, 0.2, 0.2,\n",
       "        0.1, 0.2, 0.2, 0.2, 0.2, 0.2, 0.2, 0.2]),\n",
       " array([0.4, 0.3, 0.4, 0.4, 0.3, 0.3, 0.3, 0.4, 0.5, 0.4, 0.4, 0.3, 0.3,\n",
       "        0.6, 0.4, 0.3, 1.4, 1.5, 1.5, 1.3, 1.5, 1.3, 1.6, 1. , 1.3, 1.4,\n",
       "        1. , 1.5, 1. , 1.4, 1.3, 1.4, 1.5, 1. , 1.5, 1.1, 1.8, 1.3, 1.5,\n",
       "        1.2, 1.3, 1.4, 1.4, 1.7, 1.5, 1. , 1.1, 1. , 1.2, 1.6, 1.5, 1.6,\n",
       "        1.5, 1.3, 1.3, 1.3, 1.2, 1.4, 1.2, 1. , 1.3, 1.2, 1.3, 1.3, 1.1,\n",
       "        1.3, 2.5, 1.9, 2.1, 1.8, 2.2, 2.1, 1.7, 1.8, 1.8, 2.5, 2. , 1.9,\n",
       "        2.1, 2. , 2.4, 2.3, 1.8, 2.2, 2.3, 1.5, 2.3, 2. , 2. , 1.8, 2.1,\n",
       "        1.8, 1.8, 1.8, 2.1, 1.6, 1.9, 2. , 2.2, 1.5, 1.4, 2.3, 2.4, 1.8,\n",
       "        1.8, 2.1, 2.4, 2.3, 1.9, 2.3, 2.5, 2.3, 1.9, 2. , 2.3, 1.8]))"
      ]
     },
     "execution_count": 171,
     "metadata": {},
     "output_type": "execute_result"
    }
   ],
   "source": [
    "First_Tree(df)"
   ]
  },
  {
   "cell_type": "code",
   "execution_count": 30,
   "metadata": {},
   "outputs": [
    {
     "data": {
      "text/plain": [
       "array([0.4, 0.3, 0.4, 0.4, 0.3, 0.3, 0.3, 0.4, 0.5, 0.4, 0.4, 0.3, 0.3,\n",
       "       0.6, 0.4, 0.3, 1.4, 1.5, 1.5, 1.3, 1.5, 1.3, 1.6, 1. , 1.3, 1.4,\n",
       "       1. , 1.5, 1. , 1.4, 1.3, 1.4, 1.5, 1. , 1.5, 1.1, 1.8, 1.3, 1.5,\n",
       "       1.2, 1.3, 1.4, 1.4, 1.7, 1.5, 1. , 1.1, 1. , 1.2, 1.6, 1.5, 1.6,\n",
       "       1.5, 1.3, 1.3, 1.3, 1.2, 1.4, 1.2, 1. , 1.3, 1.2, 1.3, 1.3, 1.1,\n",
       "       1.3, 2.5, 1.9, 2.1, 1.8, 2.2, 2.1, 1.7, 1.8, 1.8, 2.5, 2. , 1.9,\n",
       "       2.1, 2. , 2.4, 2.3, 1.8, 2.2, 2.3, 1.5, 2.3, 2. , 2. , 1.8, 2.1,\n",
       "       1.8, 1.8, 1.8, 2.1, 1.6, 1.9, 2. , 2.2, 1.5, 1.4, 2.3, 2.4, 1.8,\n",
       "       1.8, 2.1, 2.4, 2.3, 1.9, 2.3, 2.5, 2.3, 1.9, 2. , 2.3, 1.8])"
      ]
     },
     "execution_count": 30,
     "metadata": {},
     "output_type": "execute_result"
    }
   ],
   "source": [
    "dict_1 = first_split(df)\n",
    "thresh_1 = best_threshold(dict_1)\n",
    "best_split_1 = best_split(df, thresh_1)\n",
    "\n",
    "# best_split_1[3][1]\n",
    "\n",
    "# dict_1\n",
    "\n",
    "# thresh_1"
   ]
  },
  {
   "cell_type": "code",
   "execution_count": 92,
   "metadata": {},
   "outputs": [],
   "source": [
    "def create_dataframes(dataset, bestSplit):\n",
    "    col_names = []\n",
    "    for i in dataset:\n",
    "        col_names.append(i)\n",
    "\n",
    "\n",
    "    for j in range(len(bestSplit)):\n",
    "        leftList = [bestSplit[j][0][i] for i in range(len(bestSplit[j][0]))]\n",
    "        rightList = [bestSplit[j][1][i] for i in range(len(bestSplit[j][1]))]\n",
    "\n",
    "    if len(leftList) == len(dataset) or len(rightList) == len(dataset):\n",
    "        \n",
    "        return dataset\n",
    "\n",
    "    else:\n",
    "        dataset_left = dataset.loc[dataset[col_names[j]].isin(leftList)]\n",
    "        dataset_right = dataset.loc[dataset[col_names[j]].isin(rightList)]\n",
    "\n",
    "    return dataset_left, dataset_right\n"
   ]
  },
  {
   "cell_type": "code",
   "execution_count": 53,
   "metadata": {},
   "outputs": [
    {
     "data": {
      "text/html": [
       "<div>\n",
       "<style scoped>\n",
       "    .dataframe tbody tr th:only-of-type {\n",
       "        vertical-align: middle;\n",
       "    }\n",
       "\n",
       "    .dataframe tbody tr th {\n",
       "        vertical-align: top;\n",
       "    }\n",
       "\n",
       "    .dataframe thead th {\n",
       "        text-align: right;\n",
       "    }\n",
       "</style>\n",
       "<table border=\"1\" class=\"dataframe\">\n",
       "  <thead>\n",
       "    <tr style=\"text-align: right;\">\n",
       "      <th></th>\n",
       "      <th>SepalLengthCm</th>\n",
       "      <th>SepalWidthCm</th>\n",
       "      <th>PetalLengthCm</th>\n",
       "      <th>PetalWidthCm</th>\n",
       "      <th>type</th>\n",
       "    </tr>\n",
       "  </thead>\n",
       "  <tbody>\n",
       "    <tr>\n",
       "      <th>5</th>\n",
       "      <td>5.4</td>\n",
       "      <td>3.9</td>\n",
       "      <td>1.7</td>\n",
       "      <td>0.4</td>\n",
       "      <td>0</td>\n",
       "    </tr>\n",
       "    <tr>\n",
       "      <th>6</th>\n",
       "      <td>4.6</td>\n",
       "      <td>3.4</td>\n",
       "      <td>1.4</td>\n",
       "      <td>0.3</td>\n",
       "      <td>0</td>\n",
       "    </tr>\n",
       "    <tr>\n",
       "      <th>15</th>\n",
       "      <td>5.7</td>\n",
       "      <td>4.4</td>\n",
       "      <td>1.5</td>\n",
       "      <td>0.4</td>\n",
       "      <td>0</td>\n",
       "    </tr>\n",
       "    <tr>\n",
       "      <th>16</th>\n",
       "      <td>5.4</td>\n",
       "      <td>3.9</td>\n",
       "      <td>1.3</td>\n",
       "      <td>0.4</td>\n",
       "      <td>0</td>\n",
       "    </tr>\n",
       "    <tr>\n",
       "      <th>17</th>\n",
       "      <td>5.1</td>\n",
       "      <td>3.5</td>\n",
       "      <td>1.4</td>\n",
       "      <td>0.3</td>\n",
       "      <td>0</td>\n",
       "    </tr>\n",
       "    <tr>\n",
       "      <th>...</th>\n",
       "      <td>...</td>\n",
       "      <td>...</td>\n",
       "      <td>...</td>\n",
       "      <td>...</td>\n",
       "      <td>...</td>\n",
       "    </tr>\n",
       "    <tr>\n",
       "      <th>145</th>\n",
       "      <td>6.7</td>\n",
       "      <td>3.0</td>\n",
       "      <td>5.2</td>\n",
       "      <td>2.3</td>\n",
       "      <td>2</td>\n",
       "    </tr>\n",
       "    <tr>\n",
       "      <th>146</th>\n",
       "      <td>6.3</td>\n",
       "      <td>2.5</td>\n",
       "      <td>5.0</td>\n",
       "      <td>1.9</td>\n",
       "      <td>2</td>\n",
       "    </tr>\n",
       "    <tr>\n",
       "      <th>147</th>\n",
       "      <td>6.5</td>\n",
       "      <td>3.0</td>\n",
       "      <td>5.2</td>\n",
       "      <td>2.0</td>\n",
       "      <td>2</td>\n",
       "    </tr>\n",
       "    <tr>\n",
       "      <th>148</th>\n",
       "      <td>6.2</td>\n",
       "      <td>3.4</td>\n",
       "      <td>5.4</td>\n",
       "      <td>2.3</td>\n",
       "      <td>2</td>\n",
       "    </tr>\n",
       "    <tr>\n",
       "      <th>149</th>\n",
       "      <td>5.9</td>\n",
       "      <td>3.0</td>\n",
       "      <td>5.1</td>\n",
       "      <td>1.8</td>\n",
       "      <td>2</td>\n",
       "    </tr>\n",
       "  </tbody>\n",
       "</table>\n",
       "<p>116 rows × 5 columns</p>\n",
       "</div>"
      ],
      "text/plain": [
       "     SepalLengthCm  SepalWidthCm  PetalLengthCm  PetalWidthCm  type\n",
       "5              5.4           3.9            1.7           0.4     0\n",
       "6              4.6           3.4            1.4           0.3     0\n",
       "15             5.7           4.4            1.5           0.4     0\n",
       "16             5.4           3.9            1.3           0.4     0\n",
       "17             5.1           3.5            1.4           0.3     0\n",
       "..             ...           ...            ...           ...   ...\n",
       "145            6.7           3.0            5.2           2.3     2\n",
       "146            6.3           2.5            5.0           1.9     2\n",
       "147            6.5           3.0            5.2           2.0     2\n",
       "148            6.2           3.4            5.4           2.3     2\n",
       "149            5.9           3.0            5.1           1.8     2\n",
       "\n",
       "[116 rows x 5 columns]"
      ]
     },
     "execution_count": 53,
     "metadata": {},
     "output_type": "execute_result"
    }
   ],
   "source": [
    "create_dataframes(df, best_split_1)[1]"
   ]
  },
  {
   "cell_type": "code",
   "execution_count": 99,
   "metadata": {},
   "outputs": [
    {
     "data": {
      "text/plain": [
       "array([2.3, 2.3, 2.8, 2.8, 2.4, 2.9, 2.7, 2. , 2.2, 2.9, 2.9, 2.7, 2.2,\n",
       "       2.5, 2.8, 2.5, 2.8, 2.9, 2.8, 2.9, 2.6, 2.4, 2.4, 2.7, 2.7, 2.3,\n",
       "       2.5, 2.6, 2.6, 2.3, 2.7, 2.9, 2.9, 2.5, 2.8, 2.7, 2.9, 2.5, 2.9,\n",
       "       2.5, 2.7, 2.5, 2.8, 2.6, 2.2, 2.8, 2.8, 2.7, 2.8, 2.8, 2.8, 2.8,\n",
       "       2.8, 2.6, 2.7, 2.5])"
      ]
     },
     "execution_count": 99,
     "metadata": {},
     "output_type": "execute_result"
    }
   ],
   "source": [
    "dict_1 = first_split(df)\n",
    "thresh_1 = best_threshold(dict_1)\n",
    "best_split_1 = best_split(df, thresh_1)\n",
    "left_dataset = create_dataframes(df, best_split_1)[0]\n",
    "right_dataset = create_dataframes(df, best_split_1)[1]\n",
    "dict_2 = first_split(left_dataset)\n",
    "dict_3 = first_split(right_dataset)\n",
    "thresh_2 = best_threshold(dict_2)\n",
    "thresh_3 = best_threshold(dict_3)\n",
    "best_split_2 = best_split(left_dataset,thresh_2)\n",
    "best_split_3 = best_split(right_dataset, thresh_3)\n",
    "\n",
    "# df3 = create_dataframes(right_dataset, best_split_3)\n",
    "# df3\n",
    "# thresh_3\n",
    "\n",
    "best_split_3[1][0]"
   ]
  },
  {
   "cell_type": "code",
   "execution_count": 385,
   "metadata": {},
   "outputs": [
    {
     "data": {
      "text/plain": [
       "{3: (array([0.4, 0.3, 0.4, 0.4, 0.3, 0.3, 0.3, 0.4, 0.5, 0.4, 0.4, 0.3, 0.3,\n",
       "         0.6, 0.4, 0.3, 1.4, 1.5, 1.5, 1.3, 1.5, 1.3, 1.6, 1. , 1.3, 1.4,\n",
       "         1. , 1.5, 1. , 1.4, 1.3, 1.4, 1.5, 1. , 1.5, 1.1, 1.8, 1.3, 1.5,\n",
       "         1.2, 1.3, 1.4, 1.4, 1.7, 1.5, 1. , 1.1, 1. , 1.2, 1.6, 1.5, 1.6,\n",
       "         1.5, 1.3, 1.3, 1.3, 1.2, 1.4, 1.2, 1. , 1.3, 1.2, 1.3, 1.3, 1.1,\n",
       "         1.3, 2.5, 1.9, 2.1, 1.8, 2.2, 2.1, 1.7, 1.8, 1.8, 2.5, 2. , 1.9,\n",
       "         2.1, 2. , 2.4, 2.3, 1.8, 2.2, 2.3, 1.5, 2.3, 2. , 2. , 1.8, 2.1,\n",
       "         1.8, 1.8, 1.8, 2.1, 1.6, 1.9, 2. , 2.2, 1.5, 1.4, 2.3, 2.4, 1.8,\n",
       "         1.8, 2.1, 2.4, 2.3, 1.9, 2.3, 2.5, 2.3, 1.9, 2. , 2.3, 1.8]),\n",
       "  array([], dtype=float64))}"
      ]
     },
     "execution_count": 385,
     "metadata": {},
     "output_type": "execute_result"
    }
   ],
   "source": [
    "dict_3 = first_split(df3)\n",
    "thresh_3 = best_threshold(dict_3)\n",
    "best_split_3 = best_split(df3, thresh_3)\n",
    "# thresh_3\n",
    "best_split_3"
   ]
  },
  {
   "cell_type": "code",
   "execution_count": 342,
   "metadata": {},
   "outputs": [
    {
     "data": {
      "text/plain": [
       "-37.0"
      ]
     },
     "execution_count": 342,
     "metadata": {},
     "output_type": "execute_result"
    }
   ],
   "source": [
    "gini_index(df2)"
   ]
  },
  {
   "cell_type": "code",
   "execution_count": 160,
   "metadata": {},
   "outputs": [
    {
     "data": {
      "text/plain": [
       "0.2906574394463668"
      ]
     },
     "execution_count": 160,
     "metadata": {},
     "output_type": "execute_result"
    }
   ],
   "source": [
    "gini_index(best_split_1[0])"
   ]
  },
  {
   "cell_type": "code",
   "execution_count": 299,
   "metadata": {},
   "outputs": [
    {
     "data": {
      "text/plain": [
       "(34,)"
      ]
     },
     "execution_count": 299,
     "metadata": {},
     "output_type": "execute_result"
    }
   ],
   "source": [
    "left = list(best_split_1[0])\n",
    "np.shape(left)"
   ]
  },
  {
   "cell_type": "code",
   "execution_count": 300,
   "metadata": {},
   "outputs": [],
   "source": [
    "left = np.reshape(left, (len(left), 1))"
   ]
  },
  {
   "cell_type": "code",
   "execution_count": 301,
   "metadata": {},
   "outputs": [
    {
     "data": {
      "text/plain": [
       "(34, 1)"
      ]
     },
     "execution_count": 301,
     "metadata": {},
     "output_type": "execute_result"
    }
   ],
   "source": [
    "left.shape"
   ]
  },
  {
   "cell_type": "code",
   "execution_count": 302,
   "metadata": {},
   "outputs": [
    {
     "data": {
      "text/plain": [
       "{0.1: (array([0.1, 0.1, 0.1, 0.1, 0.1, 0.1, 0.2, 0.2, 0.2, 0.2, 0.2, 0.4, 0.3,\n",
       "         0.2, 0.2, 0.2, 0.2, 0.2, 0.4, 0.4, 0.3, 0.3, 0.3, 0.2, 0.4, 0.2,\n",
       "         0.5, 0.2, 0.2, 0.4, 0.2, 0.2, 0.2, 0.2, 0.4, 0.2, 0.2, 0.2, 0.2,\n",
       "         0.2, 0.3, 0.3, 0.2, 0.6, 0.4, 0.3, 0.2, 0.2, 0.2, 0.2, 1.4, 1.5,\n",
       "         1.5, 1.3, 1.5, 1.3, 1.6, 1. , 1.3, 1.4, 1. , 1.5, 1. , 1.4, 1.3,\n",
       "         1.4, 1.5, 1. , 1.5, 1.1, 1.8, 1.3, 1.5, 1.2, 1.3, 1.4, 1.4, 1.7,\n",
       "         1.5, 1. , 1.1, 1. , 1.2, 1.6, 1.5, 1.6, 1.5, 1.3, 1.3, 1.3, 1.2,\n",
       "         1.4, 1.2, 1. , 1.3, 1.2, 1.3, 1.3, 1.1, 1.3, 2.5, 1.9, 2.1, 1.8,\n",
       "         2.2, 2.1, 1.7, 1.8, 1.8, 2.5, 2. , 1.9, 2.1, 2. , 2.4, 2.3, 1.8,\n",
       "         2.2, 2.3, 1.5, 2.3, 2. , 2. , 1.8, 2.1, 1.8, 1.8, 1.8, 2.1, 1.6,\n",
       "         1.9, 2. , 2.2, 1.5, 1.4, 2.3, 2.4, 1.8, 1.8, 2.1, 2.4, 2.3, 1.9,\n",
       "         2.3, 2.5, 2.3, 1.9, 2. , 2.3, 1.8]),\n",
       "  array([0.1, 0.1, 0.1, 0.1, 0.1, 0.1]),\n",
       "  array([0.2, 0.2, 0.2, 0.2, 0.2, 0.4, 0.3, 0.2, 0.2, 0.2, 0.2, 0.2, 0.4,\n",
       "         0.4, 0.3, 0.3, 0.3, 0.2, 0.4, 0.2, 0.5, 0.2, 0.2, 0.4, 0.2, 0.2,\n",
       "         0.2, 0.2, 0.4, 0.2, 0.2, 0.2, 0.2, 0.2, 0.3, 0.3, 0.2, 0.6, 0.4,\n",
       "         0.3, 0.2, 0.2, 0.2, 0.2, 1.4, 1.5, 1.5, 1.3, 1.5, 1.3, 1.6, 1. ,\n",
       "         1.3, 1.4, 1. , 1.5, 1. , 1.4, 1.3, 1.4, 1.5, 1. , 1.5, 1.1, 1.8,\n",
       "         1.3, 1.5, 1.2, 1.3, 1.4, 1.4, 1.7, 1.5, 1. , 1.1, 1. , 1.2, 1.6,\n",
       "         1.5, 1.6, 1.5, 1.3, 1.3, 1.3, 1.2, 1.4, 1.2, 1. , 1.3, 1.2, 1.3,\n",
       "         1.3, 1.1, 1.3, 2.5, 1.9, 2.1, 1.8, 2.2, 2.1, 1.7, 1.8, 1.8, 2.5,\n",
       "         2. , 1.9, 2.1, 2. , 2.4, 2.3, 1.8, 2.2, 2.3, 1.5, 2.3, 2. , 2. ,\n",
       "         1.8, 2.1, 1.8, 1.8, 1.8, 2.1, 1.6, 1.9, 2. , 2.2, 1.5, 1.4, 2.3,\n",
       "         2.4, 1.8, 1.8, 2.1, 2.4, 2.3, 1.9, 2.3, 2.5, 2.3, 1.9, 2. , 2.3,\n",
       "         1.8])),\n",
       " 0.2: (array([0.2, 0.2, 0.2, 0.2, 0.2, 0.2, 0.2, 0.1, 0.2, 0.2, 0.1, 0.1, 0.2,\n",
       "         0.2, 0.2, 0.2, 0.2, 0.2, 0.2, 0.2, 0.2, 0.1, 0.2, 0.1, 0.2, 0.2,\n",
       "         0.1, 0.2, 0.2, 0.2, 0.2, 0.2, 0.2, 0.2, 0.4, 0.3, 0.4, 0.4, 0.3,\n",
       "         0.3, 0.3, 0.4, 0.5, 0.4, 0.4, 0.3, 0.3, 0.6, 0.4, 0.3, 1.4, 1.5,\n",
       "         1.5, 1.3, 1.5, 1.3, 1.6, 1. , 1.3, 1.4, 1. , 1.5, 1. , 1.4, 1.3,\n",
       "         1.4, 1.5, 1. , 1.5, 1.1, 1.8, 1.3, 1.5, 1.2, 1.3, 1.4, 1.4, 1.7,\n",
       "         1.5, 1. , 1.1, 1. , 1.2, 1.6, 1.5, 1.6, 1.5, 1.3, 1.3, 1.3, 1.2,\n",
       "         1.4, 1.2, 1. , 1.3, 1.2, 1.3, 1.3, 1.1, 1.3, 2.5, 1.9, 2.1, 1.8,\n",
       "         2.2, 2.1, 1.7, 1.8, 1.8, 2.5, 2. , 1.9, 2.1, 2. , 2.4, 2.3, 1.8,\n",
       "         2.2, 2.3, 1.5, 2.3, 2. , 2. , 1.8, 2.1, 1.8, 1.8, 1.8, 2.1, 1.6,\n",
       "         1.9, 2. , 2.2, 1.5, 1.4, 2.3, 2.4, 1.8, 1.8, 2.1, 2.4, 2.3, 1.9,\n",
       "         2.3, 2.5, 2.3, 1.9, 2. , 2.3, 1.8]),\n",
       "  array([0.2, 0.2, 0.2, 0.2, 0.2, 0.2, 0.2, 0.1, 0.2, 0.2, 0.1, 0.1, 0.2,\n",
       "         0.2, 0.2, 0.2, 0.2, 0.2, 0.2, 0.2, 0.2, 0.1, 0.2, 0.1, 0.2, 0.2,\n",
       "         0.1, 0.2, 0.2, 0.2, 0.2, 0.2, 0.2, 0.2]),\n",
       "  array([0.4, 0.3, 0.4, 0.4, 0.3, 0.3, 0.3, 0.4, 0.5, 0.4, 0.4, 0.3, 0.3,\n",
       "         0.6, 0.4, 0.3, 1.4, 1.5, 1.5, 1.3, 1.5, 1.3, 1.6, 1. , 1.3, 1.4,\n",
       "         1. , 1.5, 1. , 1.4, 1.3, 1.4, 1.5, 1. , 1.5, 1.1, 1.8, 1.3, 1.5,\n",
       "         1.2, 1.3, 1.4, 1.4, 1.7, 1.5, 1. , 1.1, 1. , 1.2, 1.6, 1.5, 1.6,\n",
       "         1.5, 1.3, 1.3, 1.3, 1.2, 1.4, 1.2, 1. , 1.3, 1.2, 1.3, 1.3, 1.1,\n",
       "         1.3, 2.5, 1.9, 2.1, 1.8, 2.2, 2.1, 1.7, 1.8, 1.8, 2.5, 2. , 1.9,\n",
       "         2.1, 2. , 2.4, 2.3, 1.8, 2.2, 2.3, 1.5, 2.3, 2. , 2. , 1.8, 2.1,\n",
       "         1.8, 1.8, 1.8, 2.1, 1.6, 1.9, 2. , 2.2, 1.5, 1.4, 2.3, 2.4, 1.8,\n",
       "         1.8, 2.1, 2.4, 2.3, 1.9, 2.3, 2.5, 2.3, 1.9, 2. , 2.3, 1.8]))}"
      ]
     },
     "execution_count": 302,
     "metadata": {},
     "output_type": "execute_result"
    }
   ],
   "source": [
    "dict_2 = split(left)\n",
    "dict_2"
   ]
  },
  {
   "cell_type": "code",
   "execution_count": null,
   "metadata": {},
   "outputs": [],
   "source": []
  }
 ],
 "metadata": {
  "kernelspec": {
   "display_name": "pythonProject",
   "language": "python",
   "name": "python3"
  },
  "language_info": {
   "codemirror_mode": {
    "name": "ipython",
    "version": 3
   },
   "file_extension": ".py",
   "mimetype": "text/x-python",
   "name": "python",
   "nbconvert_exporter": "python",
   "pygments_lexer": "ipython3",
   "version": "3.10.4"
  },
  "orig_nbformat": 4,
  "vscode": {
   "interpreter": {
    "hash": "c95b79b9472547e76e051c9794a40cce8ab2c20236968cfbaf2178f8cda33adf"
   }
  }
 },
 "nbformat": 4,
 "nbformat_minor": 2
}
